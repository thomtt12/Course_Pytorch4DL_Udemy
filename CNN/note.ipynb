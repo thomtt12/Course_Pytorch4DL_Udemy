{
 "cells": [
  {
   "cell_type": "markdown",
   "source": [
    "# Image Filters and Kernel"
   ],
   "metadata": {}
  },
  {
   "cell_type": "markdown",
   "source": [
    "- Filters are essentially an image kernel, which is a small matrix applied to an entire image <br>\r\n",
    "- Link image kernels explained visually:<br>\r\n",
    "     https://setosa.io/ev/image-kernels/"
   ],
   "metadata": {}
  },
  {
   "cell_type": "markdown",
   "source": [
    "# Convolutional Layers"
   ],
   "metadata": {}
  },
  {
   "cell_type": "markdown",
   "source": [
    "## ANN\r\n",
    "- Large amount of parameters (over 100,000 for tiny 28x28 images)\r\n",
    "- Lose all 2D information by flattening out the image\r\n",
    "- Will only work on very similar, well centered images"
   ],
   "metadata": {}
  },
  {
   "cell_type": "markdown",
   "source": [
    "## CNN \r\n",
    "- Can use Conv layer to help alleviate these issues\r\n",
    "- A Conv layer is created when we aplly multiple images filters to the imput images \r\n",
    "- The layer will then be trained to figure out the best filter weight values\r\n",
    "- Reduce parameters by focusing on  **local connectivity**\r\n",
    "- Not all neurons will be fully connected, Neurons are only connected to a subset of local neurons in the next layer \r\n",
    "- Color images can be thought of as 3D Tensors consisting of Red, Green, Blue color channels \r\n"
   ],
   "metadata": {}
  },
  {
   "cell_type": "markdown",
   "source": [
    "# Pooling layer"
   ],
   "metadata": {}
  },
  {
   "cell_type": "markdown",
   "source": [
    "Goal: Reduce parameter<br>\r\n",
    "- Accept conv layers as input\r\n",
    "- End up removing a lot of information, even a small pooling \"kernel\" of 2 by 2 with a stride of 2 will remove 75% of the input data \r\n"
   ],
   "metadata": {}
  },
  {
   "cell_type": "markdown",
   "source": [],
   "metadata": {}
  },
  {
   "cell_type": "markdown",
   "source": [
    "# Drop out"
   ],
   "metadata": {}
  },
  {
   "cell_type": "markdown",
   "source": [
    "- Another common technique deployed with CNN is called \"Drop out\"\r\n",
    "- Drop out can be thought of as a form of regulation to help prevent overfitting\r\n",
    "- During training, units are randomly dropped, along with their connections >>  helps prevent units from \"co-adapting\" too much\r\n"
   ],
   "metadata": {}
  }
 ],
 "metadata": {
  "orig_nbformat": 4,
  "language_info": {
   "name": "python"
  }
 },
 "nbformat": 4,
 "nbformat_minor": 2
}