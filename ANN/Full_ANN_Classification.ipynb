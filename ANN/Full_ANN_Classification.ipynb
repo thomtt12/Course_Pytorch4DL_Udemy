{
 "cells": [
  {
   "cell_type": "markdown",
   "source": [
    "Goal: estimate the relative cost of a New York City cab ride from several inputs <br>\r\n",
    "A binary classification, and predict whether a fare is greater or less than $10.00 <br>\r\n",
    "Output: contains two values\r\n",
    "Data: https://www.kaggle.com/c/new-york-city-taxi-fare-prediction\r\n",
    "\r\n",
    "## Working with tabular data\r\n",
    "\r\n",
    "Tabular data (spreadsheets, SQL tables, etc.) with columns of values that may or may not be relevant. \r\n",
    "* continuous vs. categorical values\r\n",
    "* embeddings\r\n",
    "* batch normalization\r\n",
    "* dropout layers"
   ],
   "metadata": {}
  },
  {
   "cell_type": "code",
   "execution_count": 1,
   "source": [
    "import torch\r\n",
    "import torch.nn as nn\r\n",
    "\r\n",
    "import numpy as np\r\n",
    "import pandas as pd\r\n",
    "import matplotlib.pyplot as plt\r\n",
    "%matplotlib inline"
   ],
   "outputs": [],
   "metadata": {}
  },
  {
   "cell_type": "code",
   "execution_count": 2,
   "source": [
    "#Load the NYC Taxi Fares dataset \r\n",
    "df = pd.read_csv(\"C:/Users/thomtt10/Documents/PRACTICE_CODE/Pytorch_Udemy/Data/NYCTaxiFares.csv\")\r\n",
    "df.head()"
   ],
   "outputs": [
    {
     "output_type": "execute_result",
     "data": {
      "text/plain": [
       "           pickup_datetime  fare_amount  fare_class  pickup_longitude  \\\n",
       "0  2010-04-19 08:17:56 UTC          6.5           0        -73.992365   \n",
       "1  2010-04-17 15:43:53 UTC          6.9           0        -73.990078   \n",
       "2  2010-04-17 11:23:26 UTC         10.1           1        -73.994149   \n",
       "3  2010-04-11 21:25:03 UTC          8.9           0        -73.990485   \n",
       "4  2010-04-17 02:19:01 UTC         19.7           1        -73.990976   \n",
       "\n",
       "   pickup_latitude  dropoff_longitude  dropoff_latitude  passenger_count  \n",
       "0        40.730521         -73.975499         40.744746                1  \n",
       "1        40.740558         -73.974232         40.744114                1  \n",
       "2        40.751118         -73.960064         40.766235                2  \n",
       "3        40.756422         -73.971205         40.748192                1  \n",
       "4        40.734202         -73.905956         40.743115                1  "
      ],
      "text/html": [
       "<div>\n",
       "<style scoped>\n",
       "    .dataframe tbody tr th:only-of-type {\n",
       "        vertical-align: middle;\n",
       "    }\n",
       "\n",
       "    .dataframe tbody tr th {\n",
       "        vertical-align: top;\n",
       "    }\n",
       "\n",
       "    .dataframe thead th {\n",
       "        text-align: right;\n",
       "    }\n",
       "</style>\n",
       "<table border=\"1\" class=\"dataframe\">\n",
       "  <thead>\n",
       "    <tr style=\"text-align: right;\">\n",
       "      <th></th>\n",
       "      <th>pickup_datetime</th>\n",
       "      <th>fare_amount</th>\n",
       "      <th>fare_class</th>\n",
       "      <th>pickup_longitude</th>\n",
       "      <th>pickup_latitude</th>\n",
       "      <th>dropoff_longitude</th>\n",
       "      <th>dropoff_latitude</th>\n",
       "      <th>passenger_count</th>\n",
       "    </tr>\n",
       "  </thead>\n",
       "  <tbody>\n",
       "    <tr>\n",
       "      <th>0</th>\n",
       "      <td>2010-04-19 08:17:56 UTC</td>\n",
       "      <td>6.5</td>\n",
       "      <td>0</td>\n",
       "      <td>-73.992365</td>\n",
       "      <td>40.730521</td>\n",
       "      <td>-73.975499</td>\n",
       "      <td>40.744746</td>\n",
       "      <td>1</td>\n",
       "    </tr>\n",
       "    <tr>\n",
       "      <th>1</th>\n",
       "      <td>2010-04-17 15:43:53 UTC</td>\n",
       "      <td>6.9</td>\n",
       "      <td>0</td>\n",
       "      <td>-73.990078</td>\n",
       "      <td>40.740558</td>\n",
       "      <td>-73.974232</td>\n",
       "      <td>40.744114</td>\n",
       "      <td>1</td>\n",
       "    </tr>\n",
       "    <tr>\n",
       "      <th>2</th>\n",
       "      <td>2010-04-17 11:23:26 UTC</td>\n",
       "      <td>10.1</td>\n",
       "      <td>1</td>\n",
       "      <td>-73.994149</td>\n",
       "      <td>40.751118</td>\n",
       "      <td>-73.960064</td>\n",
       "      <td>40.766235</td>\n",
       "      <td>2</td>\n",
       "    </tr>\n",
       "    <tr>\n",
       "      <th>3</th>\n",
       "      <td>2010-04-11 21:25:03 UTC</td>\n",
       "      <td>8.9</td>\n",
       "      <td>0</td>\n",
       "      <td>-73.990485</td>\n",
       "      <td>40.756422</td>\n",
       "      <td>-73.971205</td>\n",
       "      <td>40.748192</td>\n",
       "      <td>1</td>\n",
       "    </tr>\n",
       "    <tr>\n",
       "      <th>4</th>\n",
       "      <td>2010-04-17 02:19:01 UTC</td>\n",
       "      <td>19.7</td>\n",
       "      <td>1</td>\n",
       "      <td>-73.990976</td>\n",
       "      <td>40.734202</td>\n",
       "      <td>-73.905956</td>\n",
       "      <td>40.743115</td>\n",
       "      <td>1</td>\n",
       "    </tr>\n",
       "  </tbody>\n",
       "</table>\n",
       "</div>"
      ]
     },
     "metadata": {},
     "execution_count": 2
    }
   ],
   "metadata": {}
  },
  {
   "cell_type": "code",
   "execution_count": 5,
   "source": [
    "df['fare_class'].value_counts() # 2/3 of the data have fares under 10$, 1/3 have fares 10$ above"
   ],
   "outputs": [
    {
     "output_type": "execute_result",
     "data": {
      "text/plain": [
       "0    80000\n",
       "1    40000\n",
       "Name: fare_class, dtype: int64"
      ]
     },
     "metadata": {},
     "execution_count": 5
    }
   ],
   "metadata": {}
  },
  {
   "cell_type": "code",
   "execution_count": 6,
   "source": [
    "#Calculate the distance traveled # Same as regression problem\r\n",
    "def haversine_distance(df, lat1, long1, lat2, long2):\r\n",
    "    \"\"\"\r\n",
    "    Calculates the haversine distance between 2 sets of GPS coordinates in df\r\n",
    "    \"\"\"\r\n",
    "    r = 6371  # average radius of Earth in kilometers\r\n",
    "       \r\n",
    "    phi1 = np.radians(df[lat1])\r\n",
    "    phi2 = np.radians(df[lat2])\r\n",
    "    \r\n",
    "    delta_phi = np.radians(df[lat2]-df[lat1])\r\n",
    "    delta_lambda = np.radians(df[long2]-df[long1])\r\n",
    "     \r\n",
    "    a = np.sin(delta_phi/2)**2 + np.cos(phi1) * np.cos(phi2) * np.sin(delta_lambda/2)**2\r\n",
    "    c = 2 * np.arctan2(np.sqrt(a), np.sqrt(1-a))\r\n",
    "    d = (r * c) # in kilometers\r\n",
    "\r\n",
    "    return d"
   ],
   "outputs": [],
   "metadata": {}
  },
  {
   "cell_type": "code",
   "execution_count": 7,
   "source": [
    "df['dist_km'] = haversine_distance(df,'pickup_latitude', 'pickup_longitude', 'dropoff_latitude', 'dropoff_longitude')\r\n",
    "df.head()"
   ],
   "outputs": [
    {
     "output_type": "execute_result",
     "data": {
      "text/plain": [
       "           pickup_datetime  fare_amount  fare_class  pickup_longitude  \\\n",
       "0  2010-04-19 08:17:56 UTC          6.5           0        -73.992365   \n",
       "1  2010-04-17 15:43:53 UTC          6.9           0        -73.990078   \n",
       "2  2010-04-17 11:23:26 UTC         10.1           1        -73.994149   \n",
       "3  2010-04-11 21:25:03 UTC          8.9           0        -73.990485   \n",
       "4  2010-04-17 02:19:01 UTC         19.7           1        -73.990976   \n",
       "\n",
       "   pickup_latitude  dropoff_longitude  dropoff_latitude  passenger_count  \\\n",
       "0        40.730521         -73.975499         40.744746                1   \n",
       "1        40.740558         -73.974232         40.744114                1   \n",
       "2        40.751118         -73.960064         40.766235                2   \n",
       "3        40.756422         -73.971205         40.748192                1   \n",
       "4        40.734202         -73.905956         40.743115                1   \n",
       "\n",
       "    dist_km  \n",
       "0  2.126312  \n",
       "1  1.392307  \n",
       "2  3.326763  \n",
       "3  1.864129  \n",
       "4  7.231321  "
      ],
      "text/html": [
       "<div>\n",
       "<style scoped>\n",
       "    .dataframe tbody tr th:only-of-type {\n",
       "        vertical-align: middle;\n",
       "    }\n",
       "\n",
       "    .dataframe tbody tr th {\n",
       "        vertical-align: top;\n",
       "    }\n",
       "\n",
       "    .dataframe thead th {\n",
       "        text-align: right;\n",
       "    }\n",
       "</style>\n",
       "<table border=\"1\" class=\"dataframe\">\n",
       "  <thead>\n",
       "    <tr style=\"text-align: right;\">\n",
       "      <th></th>\n",
       "      <th>pickup_datetime</th>\n",
       "      <th>fare_amount</th>\n",
       "      <th>fare_class</th>\n",
       "      <th>pickup_longitude</th>\n",
       "      <th>pickup_latitude</th>\n",
       "      <th>dropoff_longitude</th>\n",
       "      <th>dropoff_latitude</th>\n",
       "      <th>passenger_count</th>\n",
       "      <th>dist_km</th>\n",
       "    </tr>\n",
       "  </thead>\n",
       "  <tbody>\n",
       "    <tr>\n",
       "      <th>0</th>\n",
       "      <td>2010-04-19 08:17:56 UTC</td>\n",
       "      <td>6.5</td>\n",
       "      <td>0</td>\n",
       "      <td>-73.992365</td>\n",
       "      <td>40.730521</td>\n",
       "      <td>-73.975499</td>\n",
       "      <td>40.744746</td>\n",
       "      <td>1</td>\n",
       "      <td>2.126312</td>\n",
       "    </tr>\n",
       "    <tr>\n",
       "      <th>1</th>\n",
       "      <td>2010-04-17 15:43:53 UTC</td>\n",
       "      <td>6.9</td>\n",
       "      <td>0</td>\n",
       "      <td>-73.990078</td>\n",
       "      <td>40.740558</td>\n",
       "      <td>-73.974232</td>\n",
       "      <td>40.744114</td>\n",
       "      <td>1</td>\n",
       "      <td>1.392307</td>\n",
       "    </tr>\n",
       "    <tr>\n",
       "      <th>2</th>\n",
       "      <td>2010-04-17 11:23:26 UTC</td>\n",
       "      <td>10.1</td>\n",
       "      <td>1</td>\n",
       "      <td>-73.994149</td>\n",
       "      <td>40.751118</td>\n",
       "      <td>-73.960064</td>\n",
       "      <td>40.766235</td>\n",
       "      <td>2</td>\n",
       "      <td>3.326763</td>\n",
       "    </tr>\n",
       "    <tr>\n",
       "      <th>3</th>\n",
       "      <td>2010-04-11 21:25:03 UTC</td>\n",
       "      <td>8.9</td>\n",
       "      <td>0</td>\n",
       "      <td>-73.990485</td>\n",
       "      <td>40.756422</td>\n",
       "      <td>-73.971205</td>\n",
       "      <td>40.748192</td>\n",
       "      <td>1</td>\n",
       "      <td>1.864129</td>\n",
       "    </tr>\n",
       "    <tr>\n",
       "      <th>4</th>\n",
       "      <td>2010-04-17 02:19:01 UTC</td>\n",
       "      <td>19.7</td>\n",
       "      <td>1</td>\n",
       "      <td>-73.990976</td>\n",
       "      <td>40.734202</td>\n",
       "      <td>-73.905956</td>\n",
       "      <td>40.743115</td>\n",
       "      <td>1</td>\n",
       "      <td>7.231321</td>\n",
       "    </tr>\n",
       "  </tbody>\n",
       "</table>\n",
       "</div>"
      ]
     },
     "metadata": {},
     "execution_count": 7
    }
   ],
   "metadata": {}
  },
  {
   "cell_type": "code",
   "execution_count": 8,
   "source": [
    "# Add a datetime column and derive usefull statistics \r\n",
    "df['EDTdate'] = pd.to_datetime(df['pickup_datetime'].str[:19]) - pd.Timedelta(hours=4)\r\n",
    "df['Hour'] = df['EDTdate'].dt.hour\r\n",
    "df['AMorPM'] = np.where(df['Hour']<12,'am','pm')\r\n",
    "df['Weekday'] = df['EDTdate'].dt.strftime(\"%a\")\r\n",
    "df.head()"
   ],
   "outputs": [
    {
     "output_type": "execute_result",
     "data": {
      "text/plain": [
       "           pickup_datetime  fare_amount  fare_class  pickup_longitude  \\\n",
       "0  2010-04-19 08:17:56 UTC          6.5           0        -73.992365   \n",
       "1  2010-04-17 15:43:53 UTC          6.9           0        -73.990078   \n",
       "2  2010-04-17 11:23:26 UTC         10.1           1        -73.994149   \n",
       "3  2010-04-11 21:25:03 UTC          8.9           0        -73.990485   \n",
       "4  2010-04-17 02:19:01 UTC         19.7           1        -73.990976   \n",
       "\n",
       "   pickup_latitude  dropoff_longitude  dropoff_latitude  passenger_count  \\\n",
       "0        40.730521         -73.975499         40.744746                1   \n",
       "1        40.740558         -73.974232         40.744114                1   \n",
       "2        40.751118         -73.960064         40.766235                2   \n",
       "3        40.756422         -73.971205         40.748192                1   \n",
       "4        40.734202         -73.905956         40.743115                1   \n",
       "\n",
       "    dist_km             EDTdate  Hour AMorPM Weekday  \n",
       "0  2.126312 2010-04-19 04:17:56     4     am     Mon  \n",
       "1  1.392307 2010-04-17 11:43:53    11     am     Sat  \n",
       "2  3.326763 2010-04-17 07:23:26     7     am     Sat  \n",
       "3  1.864129 2010-04-11 17:25:03    17     pm     Sun  \n",
       "4  7.231321 2010-04-16 22:19:01    22     pm     Fri  "
      ],
      "text/html": [
       "<div>\n",
       "<style scoped>\n",
       "    .dataframe tbody tr th:only-of-type {\n",
       "        vertical-align: middle;\n",
       "    }\n",
       "\n",
       "    .dataframe tbody tr th {\n",
       "        vertical-align: top;\n",
       "    }\n",
       "\n",
       "    .dataframe thead th {\n",
       "        text-align: right;\n",
       "    }\n",
       "</style>\n",
       "<table border=\"1\" class=\"dataframe\">\n",
       "  <thead>\n",
       "    <tr style=\"text-align: right;\">\n",
       "      <th></th>\n",
       "      <th>pickup_datetime</th>\n",
       "      <th>fare_amount</th>\n",
       "      <th>fare_class</th>\n",
       "      <th>pickup_longitude</th>\n",
       "      <th>pickup_latitude</th>\n",
       "      <th>dropoff_longitude</th>\n",
       "      <th>dropoff_latitude</th>\n",
       "      <th>passenger_count</th>\n",
       "      <th>dist_km</th>\n",
       "      <th>EDTdate</th>\n",
       "      <th>Hour</th>\n",
       "      <th>AMorPM</th>\n",
       "      <th>Weekday</th>\n",
       "    </tr>\n",
       "  </thead>\n",
       "  <tbody>\n",
       "    <tr>\n",
       "      <th>0</th>\n",
       "      <td>2010-04-19 08:17:56 UTC</td>\n",
       "      <td>6.5</td>\n",
       "      <td>0</td>\n",
       "      <td>-73.992365</td>\n",
       "      <td>40.730521</td>\n",
       "      <td>-73.975499</td>\n",
       "      <td>40.744746</td>\n",
       "      <td>1</td>\n",
       "      <td>2.126312</td>\n",
       "      <td>2010-04-19 04:17:56</td>\n",
       "      <td>4</td>\n",
       "      <td>am</td>\n",
       "      <td>Mon</td>\n",
       "    </tr>\n",
       "    <tr>\n",
       "      <th>1</th>\n",
       "      <td>2010-04-17 15:43:53 UTC</td>\n",
       "      <td>6.9</td>\n",
       "      <td>0</td>\n",
       "      <td>-73.990078</td>\n",
       "      <td>40.740558</td>\n",
       "      <td>-73.974232</td>\n",
       "      <td>40.744114</td>\n",
       "      <td>1</td>\n",
       "      <td>1.392307</td>\n",
       "      <td>2010-04-17 11:43:53</td>\n",
       "      <td>11</td>\n",
       "      <td>am</td>\n",
       "      <td>Sat</td>\n",
       "    </tr>\n",
       "    <tr>\n",
       "      <th>2</th>\n",
       "      <td>2010-04-17 11:23:26 UTC</td>\n",
       "      <td>10.1</td>\n",
       "      <td>1</td>\n",
       "      <td>-73.994149</td>\n",
       "      <td>40.751118</td>\n",
       "      <td>-73.960064</td>\n",
       "      <td>40.766235</td>\n",
       "      <td>2</td>\n",
       "      <td>3.326763</td>\n",
       "      <td>2010-04-17 07:23:26</td>\n",
       "      <td>7</td>\n",
       "      <td>am</td>\n",
       "      <td>Sat</td>\n",
       "    </tr>\n",
       "    <tr>\n",
       "      <th>3</th>\n",
       "      <td>2010-04-11 21:25:03 UTC</td>\n",
       "      <td>8.9</td>\n",
       "      <td>0</td>\n",
       "      <td>-73.990485</td>\n",
       "      <td>40.756422</td>\n",
       "      <td>-73.971205</td>\n",
       "      <td>40.748192</td>\n",
       "      <td>1</td>\n",
       "      <td>1.864129</td>\n",
       "      <td>2010-04-11 17:25:03</td>\n",
       "      <td>17</td>\n",
       "      <td>pm</td>\n",
       "      <td>Sun</td>\n",
       "    </tr>\n",
       "    <tr>\n",
       "      <th>4</th>\n",
       "      <td>2010-04-17 02:19:01 UTC</td>\n",
       "      <td>19.7</td>\n",
       "      <td>1</td>\n",
       "      <td>-73.990976</td>\n",
       "      <td>40.734202</td>\n",
       "      <td>-73.905956</td>\n",
       "      <td>40.743115</td>\n",
       "      <td>1</td>\n",
       "      <td>7.231321</td>\n",
       "      <td>2010-04-16 22:19:01</td>\n",
       "      <td>22</td>\n",
       "      <td>pm</td>\n",
       "      <td>Fri</td>\n",
       "    </tr>\n",
       "  </tbody>\n",
       "</table>\n",
       "</div>"
      ]
     },
     "metadata": {},
     "execution_count": 8
    }
   ],
   "metadata": {}
  },
  {
   "cell_type": "code",
   "execution_count": 9,
   "source": [
    "df['EDTdate'].min()"
   ],
   "outputs": [
    {
     "output_type": "execute_result",
     "data": {
      "text/plain": [
       "Timestamp('2010-04-11 00:00:10')"
      ]
     },
     "metadata": {},
     "execution_count": 9
    }
   ],
   "metadata": {}
  },
  {
   "cell_type": "code",
   "execution_count": 10,
   "source": [
    "#Separate categorical from continuous columns\r\n",
    "df.columns"
   ],
   "outputs": [
    {
     "output_type": "execute_result",
     "data": {
      "text/plain": [
       "Index(['pickup_datetime', 'fare_amount', 'fare_class', 'pickup_longitude',\n",
       "       'pickup_latitude', 'dropoff_longitude', 'dropoff_latitude',\n",
       "       'passenger_count', 'dist_km', 'EDTdate', 'Hour', 'AMorPM', 'Weekday'],\n",
       "      dtype='object')"
      ]
     },
     "metadata": {},
     "execution_count": 10
    }
   ],
   "metadata": {}
  },
  {
   "cell_type": "code",
   "execution_count": 11,
   "source": [
    "cat_cols = ['Hour', 'AMorPM', 'Weekday']\r\n",
    "cont_cols = ['pickup_latitude', 'pickup_longitude', 'dropoff_latitude', 'dropoff_longitude', 'passenger_count', 'dist_km']\r\n",
    "y_col = ['fare_class']  # this column contains the labels"
   ],
   "outputs": [],
   "metadata": {}
  },
  {
   "cell_type": "markdown",
   "source": [
    "# Category"
   ],
   "metadata": {}
  },
  {
   "cell_type": "code",
   "execution_count": 12,
   "source": [
    "# Convert our three categorical columns to category dtypes.\r\n",
    "for cat in cat_cols:\r\n",
    "    df[cat] = df[cat].astype('category')"
   ],
   "outputs": [],
   "metadata": {}
  },
  {
   "cell_type": "code",
   "execution_count": 14,
   "source": [
    "df.dtypes"
   ],
   "outputs": [
    {
     "output_type": "execute_result",
     "data": {
      "text/plain": [
       "pickup_datetime              object\n",
       "fare_amount                 float64\n",
       "fare_class                    int64\n",
       "pickup_longitude            float64\n",
       "pickup_latitude             float64\n",
       "dropoff_longitude           float64\n",
       "dropoff_latitude            float64\n",
       "passenger_count               int64\n",
       "dist_km                     float64\n",
       "EDTdate              datetime64[ns]\n",
       "Hour                       category\n",
       "AMorPM                     category\n",
       "Weekday                    category\n",
       "dtype: object"
      ]
     },
     "metadata": {},
     "execution_count": 14
    }
   ],
   "metadata": {}
  },
  {
   "cell_type": "code",
   "execution_count": 16,
   "source": [
    "# df['Hour'] is a categorical feature by displaying some of the rows\r\n",
    "df['Hour'].head()"
   ],
   "outputs": [
    {
     "output_type": "execute_result",
     "data": {
      "text/plain": [
       "0     4\n",
       "1    11\n",
       "2     7\n",
       "3    17\n",
       "4    22\n",
       "Name: Hour, dtype: category\n",
       "Categories (24, int64): [0, 1, 2, 3, ..., 20, 21, 22, 23]"
      ]
     },
     "metadata": {},
     "execution_count": 16
    }
   ],
   "metadata": {}
  },
  {
   "cell_type": "markdown",
   "source": [
    "24 unique categories correspond to the codes assigned to each name <br>\r\n",
    "\r\n",
    "access the category names with <tt>Series.cat.categories</tt> or just the codes with <tt>Series.cat.codes</tt>."
   ],
   "metadata": {}
  },
  {
   "cell_type": "code",
   "execution_count": 17,
   "source": [
    "df['AMorPM'].head()"
   ],
   "outputs": [
    {
     "output_type": "execute_result",
     "data": {
      "text/plain": [
       "0    am\n",
       "1    am\n",
       "2    am\n",
       "3    pm\n",
       "4    pm\n",
       "Name: AMorPM, dtype: category\n",
       "Categories (2, object): [am, pm]"
      ]
     },
     "metadata": {},
     "execution_count": 17
    }
   ],
   "metadata": {}
  },
  {
   "cell_type": "code",
   "execution_count": 18,
   "source": [
    "df['AMorPM'].cat.categories"
   ],
   "outputs": [
    {
     "output_type": "execute_result",
     "data": {
      "text/plain": [
       "Index(['am', 'pm'], dtype='object')"
      ]
     },
     "metadata": {},
     "execution_count": 18
    }
   ],
   "metadata": {}
  },
  {
   "cell_type": "code",
   "execution_count": 19,
   "source": [
    "df['AMorPM'].head().cat.codes"
   ],
   "outputs": [
    {
     "output_type": "execute_result",
     "data": {
      "text/plain": [
       "0    0\n",
       "1    0\n",
       "2    0\n",
       "3    1\n",
       "4    1\n",
       "dtype: int8"
      ]
     },
     "metadata": {},
     "execution_count": 19
    }
   ],
   "metadata": {}
  },
  {
   "cell_type": "code",
   "execution_count": 20,
   "source": [
    "df['Weekday'].cat.categories"
   ],
   "outputs": [
    {
     "output_type": "execute_result",
     "data": {
      "text/plain": [
       "Index(['Fri', 'Mon', 'Sat', 'Sun', 'Thu', 'Tue', 'Wed'], dtype='object')"
      ]
     },
     "metadata": {},
     "execution_count": 20
    }
   ],
   "metadata": {}
  },
  {
   "cell_type": "code",
   "execution_count": 21,
   "source": [
    "df['Weekday'].head().cat.codes"
   ],
   "outputs": [
    {
     "output_type": "execute_result",
     "data": {
      "text/plain": [
       "0    1\n",
       "1    2\n",
       "2    2\n",
       "3    3\n",
       "4    0\n",
       "dtype: int8"
      ]
     },
     "metadata": {},
     "execution_count": 21
    }
   ],
   "metadata": {}
  },
  {
   "cell_type": "code",
   "execution_count": 25,
   "source": [
    "# Combine the three categorical column into one input array using numpy.stack\r\n",
    "hr = df['Hour'].cat.codes.values\r\n",
    "ampm = df['AMorPM'].cat.codes.values\r\n",
    "wkdy = df['Weekday'].cat.codes.values\r\n",
    "\r\n",
    "cats = np.stack([hr, ampm, wkdy], 1)\r\n",
    "\r\n",
    "cats[:5]\r\n",
    "# Equivalent to \r\n",
    "# cats = np.stack([df[col].cat.codes.values for col in cat_cols], 1)"
   ],
   "outputs": [
    {
     "output_type": "execute_result",
     "data": {
      "text/plain": [
       "array([[ 4,  0,  1],\n",
       "       [11,  0,  2],\n",
       "       [ 7,  0,  2],\n",
       "       [17,  1,  3],\n",
       "       [22,  1,  0]], dtype=int8)"
      ]
     },
     "metadata": {},
     "execution_count": 25
    }
   ],
   "metadata": {}
  },
  {
   "cell_type": "code",
   "execution_count": 26,
   "source": [
    "# Convert numpy arrays to tensor \r\n",
    "# Convert categorical variables to a tensor\r\n",
    "cats = torch.tensor(cats, dtype=torch.int64)\r\n",
    "# this syntax is ok, since the source data is an array, not an existing tensor\r\n",
    "\r\n",
    "cats[:5]"
   ],
   "outputs": [
    {
     "output_type": "execute_result",
     "data": {
      "text/plain": [
       "tensor([[ 4,  0,  1],\n",
       "        [11,  0,  2],\n",
       "        [ 7,  0,  2],\n",
       "        [17,  1,  3],\n",
       "        [22,  1,  0]])"
      ]
     },
     "metadata": {},
     "execution_count": 26
    }
   ],
   "metadata": {}
  },
  {
   "cell_type": "code",
   "execution_count": 29,
   "source": [
    "\"\"\"\r\n",
    "Có thể feed tất cả các biến liên tục (kiểu tensor) vào model. \r\n",
    "Không cần normalizing \r\n",
    "conts và y để dạng Float (float32), không phải kiểu Double(float64) để tiện batch normalization \r\n",
    "\r\n",
    "\"\"\"\r\n",
    "# Convert continuous variables to a tensor\r\n",
    "conts = np.stack([df[col].values for col in cont_cols], 1)\r\n",
    "conts = torch.tensor(conts, dtype=torch.float)\r\n",
    "conts[:5]"
   ],
   "outputs": [
    {
     "output_type": "execute_result",
     "data": {
      "text/plain": [
       "tensor([[ 40.7305, -73.9924,  40.7447, -73.9755,   1.0000,   2.1263],\n",
       "        [ 40.7406, -73.9901,  40.7441, -73.9742,   1.0000,   1.3923],\n",
       "        [ 40.7511, -73.9941,  40.7662, -73.9601,   2.0000,   3.3268],\n",
       "        [ 40.7564, -73.9905,  40.7482, -73.9712,   1.0000,   1.8641],\n",
       "        [ 40.7342, -73.9910,  40.7431, -73.9060,   1.0000,   7.2313]])"
      ]
     },
     "metadata": {},
     "execution_count": 29
    }
   ],
   "metadata": {}
  },
  {
   "cell_type": "code",
   "execution_count": 30,
   "source": [
    "conts.type()"
   ],
   "outputs": [
    {
     "output_type": "execute_result",
     "data": {
      "text/plain": [
       "'torch.FloatTensor'"
      ]
     },
     "metadata": {},
     "execution_count": 30
    }
   ],
   "metadata": {}
  },
  {
   "cell_type": "code",
   "execution_count": 31,
   "source": [
    "# CrossEntropyLoss expects a 1d y-tensor  >> sử dụng .flatten() thay cho .replace(-1,1)\r\n",
    "# Convert labels to a tensor\r\n",
    "y = torch.tensor(df[y_col].values).flatten()\r\n",
    "\r\n",
    "y[:5]"
   ],
   "outputs": [
    {
     "output_type": "execute_result",
     "data": {
      "text/plain": [
       "tensor([0, 0, 1, 0, 1])"
      ]
     },
     "metadata": {},
     "execution_count": 31
    }
   ],
   "metadata": {}
  },
  {
   "cell_type": "code",
   "execution_count": 32,
   "source": [
    "cats.shape"
   ],
   "outputs": [
    {
     "output_type": "execute_result",
     "data": {
      "text/plain": [
       "torch.Size([120000, 3])"
      ]
     },
     "metadata": {},
     "execution_count": 32
    }
   ],
   "metadata": {}
  },
  {
   "cell_type": "code",
   "execution_count": 33,
   "source": [
    "conts.shape"
   ],
   "outputs": [
    {
     "output_type": "execute_result",
     "data": {
      "text/plain": [
       "torch.Size([120000, 6])"
      ]
     },
     "metadata": {},
     "execution_count": 33
    }
   ],
   "metadata": {}
  },
  {
   "cell_type": "code",
   "execution_count": 34,
   "source": [
    "y.shape"
   ],
   "outputs": [
    {
     "output_type": "execute_result",
     "data": {
      "text/plain": [
       "torch.Size([120000])"
      ]
     },
     "metadata": {},
     "execution_count": 34
    }
   ],
   "metadata": {}
  },
  {
   "cell_type": "markdown",
   "source": [
    "# Set an embedding size "
   ],
   "metadata": {}
  },
  {
   "cell_type": "markdown",
   "source": [
    "Quy tắc chung để xác định embedding size là lấy số lượng các unique entries trong mỗi cột chia cho 2, nhưng không được vượt quá 50"
   ],
   "metadata": {}
  },
  {
   "cell_type": "code",
   "execution_count": 35,
   "source": [
    "# This will set embedding sizes for Hours, AMvsPM and Weekdays\r\n",
    "cat_szs = [len(df[col].cat.categories) for col in cat_cols]\r\n",
    "emb_szs = [(size, min(50, (size+1)//2)) for size in cat_szs]\r\n",
    "emb_szs"
   ],
   "outputs": [
    {
     "output_type": "execute_result",
     "data": {
      "text/plain": [
       "[(24, 12), (2, 1), (7, 4)]"
      ]
     },
     "metadata": {},
     "execution_count": 35
    }
   ],
   "metadata": {}
  },
  {
   "cell_type": "markdown",
   "source": [
    "# Define a TabularModel "
   ],
   "metadata": {}
  },
  {
   "cell_type": "markdown",
   "source": [
    "<div class=\"alert alert-info\"><strong>Let's walk through the steps we're about to take. See below for more detailed illustrations of the steps.</strong><br>\r\n",
    "\r\n",
    "1. Extend the base Module class, set up the following parameters:\r\n",
    "   * <tt>emb_szs: </tt>list of tuples: each categorical variable size is paired with an embedding size\r\n",
    "   * <tt>n_cont:  </tt>int: number of continuous variables\r\n",
    "   * <tt>out_sz:  </tt>int: output size\r\n",
    "   * <tt>layers:  </tt>list of ints: layer sizes\r\n",
    "   * <tt>p:       </tt>float: dropout probability for each layer (for simplicity we'll use the same value throughout)\r\n",
    "   \r\n",
    "<tt><font color=black>class TabularModel(nn.Module):<br>\r\n",
    "&nbsp;&nbsp;&nbsp;&nbsp;def \\_\\_init\\_\\_(self, emb_szs, n_cont, out_sz, layers, p=0.5):<br>\r\n",
    "&nbsp;&nbsp;&nbsp;&nbsp;&nbsp;&nbsp;&nbsp;&nbsp;super().\\_\\_init\\_\\_()</font></tt><br>\r\n",
    "\r\n",
    "2. Set up the embedded layers with <a href='https://pytorch.org/docs/stable/nn.html#modulelist'><tt><strong>torch.nn.ModuleList()</strong></tt></a> and <a href='https://pytorch.org/docs/stable/nn.html#embedding'><tt><strong>torch.nn.Embedding()</strong></tt></a><br>Categorical data will be filtered through these Embeddings in the forward section.<br>\r\n",
    "<tt><font color=black>&nbsp;&nbsp;&nbsp;&nbsp;self.embeds = nn.ModuleList([nn.Embedding(ni, nf) for ni,nf in emb_szs])</font></tt><br><br>\r\n",
    "3. Set up a dropout function for the embeddings with <a href='https://pytorch.org/docs/stable/nn.html#dropout'><tt><strong>torch.nn.Dropout()</strong></tt></a> The default p-value=0.5<br>\r\n",
    "<tt><font color=black>&nbsp;&nbsp;&nbsp;&nbsp;self.emb_drop = nn.Dropout(emb_drop)</font></tt><br><br>\r\n",
    "4. Set up a normalization function for the continuous variables with <a href='https://pytorch.org/docs/stable/nn.html#batchnorm1d'><tt><strong>torch.nn.BatchNorm1d()</strong></tt></a><br>\r\n",
    "<tt><font color=black>&nbsp;&nbsp;&nbsp;&nbsp;self.bn_cont = nn.BatchNorm1d(n_cont)</font></tt><br><br>\r\n",
    "5. Set up a sequence of neural network layers where each level includes a Linear function, an activation function (we'll use <a href='https://pytorch.org/docs/stable/nn.html#relu'><strong>ReLU</strong></a>), a normalization step, and a dropout layer. We'll combine the list of layers with <a href='https://pytorch.org/docs/stable/nn.html#sequential'><tt><strong>torch.nn.Sequential()</strong></tt></a><br>\r\n",
    "<tt><font color=black>&nbsp;&nbsp;&nbsp;&nbsp;self.bn_cont = nn.BatchNorm1d(n_cont)<br>\r\n",
    "&nbsp;&nbsp;&nbsp;&nbsp;layerlist = []<br>\r\n",
    "&nbsp;&nbsp;&nbsp;&nbsp;n_emb = sum((nf for ni,nf in emb_szs))<br>\r\n",
    "&nbsp;&nbsp;&nbsp;&nbsp;n_in = n_emb + n_cont<br>\r\n",
    "<br>\r\n",
    "&nbsp;&nbsp;&nbsp;&nbsp;for i in layers:<br>\r\n",
    "&nbsp;&nbsp;&nbsp;&nbsp;&nbsp;&nbsp;&nbsp;&nbsp;layerlist.append(nn.Linear(n_in,i)) <br>\r\n",
    "&nbsp;&nbsp;&nbsp;&nbsp;&nbsp;&nbsp;&nbsp;&nbsp;layerlist.append(nn.ReLU(inplace=True))<br>\r\n",
    "&nbsp;&nbsp;&nbsp;&nbsp;&nbsp;&nbsp;&nbsp;&nbsp;layerlist.append(nn.BatchNorm1d(i))<br>\r\n",
    "&nbsp;&nbsp;&nbsp;&nbsp;&nbsp;&nbsp;&nbsp;&nbsp;layerlist.append(nn.Dropout(p))<br>\r\n",
    "&nbsp;&nbsp;&nbsp;&nbsp;&nbsp;&nbsp;&nbsp;&nbsp;n_in = i<br>\r\n",
    "&nbsp;&nbsp;&nbsp;&nbsp;layerlist.append(nn.Linear(layers[-1],out_sz))<br>\r\n",
    "<br>\r\n",
    "&nbsp;&nbsp;&nbsp;&nbsp;self.layers = nn.Sequential(*layerlist)</font></tt><br><br>\r\n",
    "6. Define the forward method. Preprocess the embeddings and normalize the continuous variables before passing them through the layers.<br>Use <a href='https://pytorch.org/docs/stable/torch.html#torch.cat'><tt><strong>torch.cat()</strong></tt></a> to combine multiple tensors into one.<br>\r\n",
    "<tt><font color=black>def forward(self, x_cat, x_cont):<br>\r\n",
    "&nbsp;&nbsp;&nbsp;&nbsp;embeddings = []<br>\r\n",
    "&nbsp;&nbsp;&nbsp;&nbsp;for i,e in enumerate(self.embeds):<br>\r\n",
    "&nbsp;&nbsp;&nbsp;&nbsp;&nbsp;&nbsp;&nbsp;&nbsp;embeddings.append(e(x_cat[:,i]))<br>\r\n",
    "&nbsp;&nbsp;&nbsp;&nbsp;x = torch.cat(embeddings, 1)<br>\r\n",
    "&nbsp;&nbsp;&nbsp;&nbsp;x = self.emb_drop(x)<br>\r\n",
    "<br>\r\n",
    "&nbsp;&nbsp;&nbsp;&nbsp;x_cont = self.bn_cont(x_cont)<br>\r\n",
    "&nbsp;&nbsp;&nbsp;&nbsp;x = torch.cat([x, x_cont], 1)<br>\r\n",
    "&nbsp;&nbsp;&nbsp;&nbsp;x = self.layers(x)<br>\r\n",
    "&nbsp;&nbsp;&nbsp;&nbsp;return x</font></tt>\r\n",
    "</div>"
   ],
   "metadata": {}
  },
  {
   "cell_type": "code",
   "execution_count": 37,
   "source": [
    "# This is our source data\r\n",
    "catz = cats[:4]\r\n",
    "catz"
   ],
   "outputs": [
    {
     "output_type": "execute_result",
     "data": {
      "text/plain": [
       "tensor([[ 4,  0,  1],\n",
       "        [11,  0,  2],\n",
       "        [ 7,  0,  2],\n",
       "        [17,  1,  3]])"
      ]
     },
     "metadata": {},
     "execution_count": 37
    }
   ],
   "metadata": {}
  },
  {
   "cell_type": "code",
   "execution_count": 38,
   "source": [
    "# This is passed in when the model is instantiated\r\n",
    "emb_szs"
   ],
   "outputs": [
    {
     "output_type": "execute_result",
     "data": {
      "text/plain": [
       "[(24, 12), (2, 1), (7, 4)]"
      ]
     },
     "metadata": {},
     "execution_count": 38
    }
   ],
   "metadata": {}
  },
  {
   "cell_type": "code",
   "execution_count": 39,
   "source": [
    "# This is assigned inside the __init__() method\r\n",
    "selfembeds = nn.ModuleList([nn.Embedding(ni, nf) for ni,nf in emb_szs])\r\n",
    "selfembeds"
   ],
   "outputs": [
    {
     "output_type": "execute_result",
     "data": {
      "text/plain": [
       "ModuleList(\n",
       "  (0): Embedding(24, 12)\n",
       "  (1): Embedding(2, 1)\n",
       "  (2): Embedding(7, 4)\n",
       ")"
      ]
     },
     "metadata": {},
     "execution_count": 39
    }
   ],
   "metadata": {}
  },
  {
   "cell_type": "code",
   "execution_count": 40,
   "source": [
    "list(enumerate(selfembeds))"
   ],
   "outputs": [
    {
     "output_type": "execute_result",
     "data": {
      "text/plain": [
       "[(0, Embedding(24, 12)), (1, Embedding(2, 1)), (2, Embedding(7, 4))]"
      ]
     },
     "metadata": {},
     "execution_count": 40
    }
   ],
   "metadata": {}
  },
  {
   "cell_type": "code",
   "execution_count": 41,
   "source": [
    "# This happens inside the forward() method\r\n",
    "embeddingz = []\r\n",
    "for i,e in enumerate(selfembeds):\r\n",
    "    embeddingz.append(e(catz[:,i]))\r\n",
    "embeddingz"
   ],
   "outputs": [
    {
     "output_type": "execute_result",
     "data": {
      "text/plain": [
       "[tensor([[-0.2171, -1.5697, -2.8175,  0.1775,  0.6158,  1.4107,  0.3875,  1.5302,\n",
       "          -0.2615,  0.2188, -0.3582,  0.6681],\n",
       "         [ 0.9392, -1.6467,  1.0116, -0.6198, -1.5019, -1.6333, -1.0722,  1.0465,\n",
       "           0.6838, -0.9112, -0.2356, -1.5945],\n",
       "         [ 1.5027, -0.1178, -0.6001, -0.5419, -0.7041, -0.1279,  0.5692, -0.6066,\n",
       "          -0.3413, -0.3832,  0.2190, -0.3436],\n",
       "         [ 0.4795, -1.0887, -0.9766,  1.4888, -1.2887, -0.2797,  1.4726, -0.0159,\n",
       "           1.1853,  0.9528, -0.4698,  1.2862]], grad_fn=<EmbeddingBackward>),\n",
       " tensor([[1.3651],\n",
       "         [1.3651],\n",
       "         [1.3651],\n",
       "         [0.2602]], grad_fn=<EmbeddingBackward>),\n",
       " tensor([[ 0.0878,  0.1795, -0.4938, -1.2008],\n",
       "         [-1.4149,  0.5715, -0.4551,  0.5502],\n",
       "         [-1.4149,  0.5715, -0.4551,  0.5502],\n",
       "         [ 0.7113,  1.6030, -0.2502,  0.9460]], grad_fn=<EmbeddingBackward>)]"
      ]
     },
     "metadata": {},
     "execution_count": 41
    }
   ],
   "metadata": {}
  },
  {
   "cell_type": "code",
   "execution_count": 42,
   "source": [
    "# We concatenate the embedding sections (12,1,4) into one (17)\r\n",
    "z = torch.cat(embeddingz, 1)\r\n",
    "z"
   ],
   "outputs": [
    {
     "output_type": "execute_result",
     "data": {
      "text/plain": [
       "tensor([[-0.2171, -1.5697, -2.8175,  0.1775,  0.6158,  1.4107,  0.3875,  1.5302,\n",
       "         -0.2615,  0.2188, -0.3582,  0.6681,  1.3651,  0.0878,  0.1795, -0.4938,\n",
       "         -1.2008],\n",
       "        [ 0.9392, -1.6467,  1.0116, -0.6198, -1.5019, -1.6333, -1.0722,  1.0465,\n",
       "          0.6838, -0.9112, -0.2356, -1.5945,  1.3651, -1.4149,  0.5715, -0.4551,\n",
       "          0.5502],\n",
       "        [ 1.5027, -0.1178, -0.6001, -0.5419, -0.7041, -0.1279,  0.5692, -0.6066,\n",
       "         -0.3413, -0.3832,  0.2190, -0.3436,  1.3651, -1.4149,  0.5715, -0.4551,\n",
       "          0.5502],\n",
       "        [ 0.4795, -1.0887, -0.9766,  1.4888, -1.2887, -0.2797,  1.4726, -0.0159,\n",
       "          1.1853,  0.9528, -0.4698,  1.2862,  0.2602,  0.7113,  1.6030, -0.2502,\n",
       "          0.9460]], grad_fn=<CatBackward>)"
      ]
     },
     "metadata": {},
     "execution_count": 42
    }
   ],
   "metadata": {}
  },
  {
   "cell_type": "code",
   "execution_count": 43,
   "source": [
    "# This was assigned under the __init__() method\r\n",
    "selfembdrop = nn.Dropout(.4)"
   ],
   "outputs": [],
   "metadata": {}
  },
  {
   "cell_type": "code",
   "execution_count": 44,
   "source": [
    "z = selfembdrop(z)\r\n",
    "z"
   ],
   "outputs": [
    {
     "output_type": "execute_result",
     "data": {
      "text/plain": [
       "tensor([[-0.0000, -2.6162, -0.0000,  0.0000,  0.0000,  0.0000,  0.6458,  2.5504,\n",
       "         -0.4358,  0.0000, -0.0000,  1.1136,  2.2751,  0.0000,  0.0000, -0.8230,\n",
       "         -0.0000],\n",
       "        [ 1.5654, -2.7445,  0.0000, -1.0330, -2.5032, -2.7222, -1.7871,  1.7442,\n",
       "          1.1396, -1.5187, -0.3926, -0.0000,  0.0000, -0.0000,  0.0000, -0.0000,\n",
       "          0.9170],\n",
       "        [ 0.0000, -0.0000, -0.0000, -0.9031, -1.1736, -0.2131,  0.0000, -0.0000,\n",
       "         -0.5689, -0.0000,  0.0000, -0.5726,  0.0000, -2.3582,  0.9525, -0.0000,\n",
       "          0.0000],\n",
       "        [ 0.7992, -0.0000, -1.6277,  2.4813, -2.1478, -0.0000,  2.4544, -0.0265,\n",
       "          1.9755,  1.5879, -0.0000,  2.1436,  0.4337,  1.1856,  0.0000, -0.4169,\n",
       "          0.0000]], grad_fn=<MulBackward0>)"
      ]
     },
     "metadata": {},
     "execution_count": 44
    }
   ],
   "metadata": {}
  },
  {
   "cell_type": "code",
   "execution_count": 46,
   "source": [
    "\r\n",
    "#how the catogorical embeddings are passed into the layers\r\n",
    "class TabularModel(nn.Module):\r\n",
    "\r\n",
    "    def __init__(self, emb_szs, n_cont, out_sz, layers, p=0.5):\r\n",
    "        super().__init__()\r\n",
    "        self.embeds = nn.ModuleList([nn.Embedding(ni, nf) for ni,nf in emb_szs])\r\n",
    "        self.emb_drop = nn.Dropout(p)\r\n",
    "        self.bn_cont = nn.BatchNorm1d(n_cont)\r\n",
    "        \r\n",
    "        layerlist = []\r\n",
    "        n_emb = sum((nf for ni,nf in emb_szs))\r\n",
    "        n_in = n_emb + n_cont\r\n",
    "        \r\n",
    "        for i in layers:\r\n",
    "            layerlist.append(nn.Linear(n_in,i)) \r\n",
    "            layerlist.append(nn.ReLU(inplace=True))\r\n",
    "            layerlist.append(nn.BatchNorm1d(i))\r\n",
    "            layerlist.append(nn.Dropout(p))\r\n",
    "            n_in = i\r\n",
    "        layerlist.append(nn.Linear(layers[-1],out_sz))\r\n",
    "            \r\n",
    "        self.layers = nn.Sequential(*layerlist)\r\n",
    "    \r\n",
    "    def forward(self, x_cat, x_cont):\r\n",
    "        embeddings = []\r\n",
    "        for i,e in enumerate(self.embeds):\r\n",
    "            embeddings.append(e(x_cat[:,i]))\r\n",
    "        x = torch.cat(embeddings, 1)\r\n",
    "        x = self.emb_drop(x)\r\n",
    "        \r\n",
    "        x_cont = self.bn_cont(x_cont)\r\n",
    "        x = torch.cat([x, x_cont], 1)\r\n",
    "        x = self.layers(x)\r\n",
    "        return x"
   ],
   "outputs": [],
   "metadata": {}
  },
  {
   "cell_type": "code",
   "execution_count": 47,
   "source": [
    "torch.manual_seed(33)\r\n",
    "model = TabularModel(emb_szs, conts.shape[1], 2, [200,100], p=0.4) # out_sz = 2"
   ],
   "outputs": [],
   "metadata": {}
  },
  {
   "cell_type": "code",
   "execution_count": 48,
   "source": [
    "model "
   ],
   "outputs": [
    {
     "output_type": "execute_result",
     "data": {
      "text/plain": [
       "TabularModel(\n",
       "  (embeds): ModuleList(\n",
       "    (0): Embedding(24, 12)\n",
       "    (1): Embedding(2, 1)\n",
       "    (2): Embedding(7, 4)\n",
       "  )\n",
       "  (emb_drop): Dropout(p=0.4)\n",
       "  (bn_cont): BatchNorm1d(6, eps=1e-05, momentum=0.1, affine=True, track_running_stats=True)\n",
       "  (layers): Sequential(\n",
       "    (0): Linear(in_features=23, out_features=200, bias=True)\n",
       "    (1): ReLU(inplace)\n",
       "    (2): BatchNorm1d(200, eps=1e-05, momentum=0.1, affine=True, track_running_stats=True)\n",
       "    (3): Dropout(p=0.4)\n",
       "    (4): Linear(in_features=200, out_features=100, bias=True)\n",
       "    (5): ReLU(inplace)\n",
       "    (6): BatchNorm1d(100, eps=1e-05, momentum=0.1, affine=True, track_running_stats=True)\n",
       "    (7): Dropout(p=0.4)\n",
       "    (8): Linear(in_features=100, out_features=2, bias=True)\n",
       "  )\n",
       ")"
      ]
     },
     "metadata": {},
     "execution_count": 48
    }
   ],
   "metadata": {}
  },
  {
   "cell_type": "code",
   "execution_count": 49,
   "source": [
    "#Define loss function & optimizer\r\n",
    "#sử dụng torch.nn.CrossEntropyLoss() thay cho MSELoss() \r\n",
    "#sử dụng optimizer torch.optim.Adam()\r\n",
    "criterion = nn.CrossEntropyLoss()\r\n",
    "optimizer = torch.optim.Adam(model.parameters(), lr=0.001)"
   ],
   "outputs": [],
   "metadata": {}
  },
  {
   "cell_type": "code",
   "execution_count": 50,
   "source": [
    "# Train/Test splits\r\n",
    "batch_size = 60000\r\n",
    "test_size = 12000\r\n",
    "\r\n",
    "cat_train = cats[:batch_size-test_size]\r\n",
    "cat_test = cats[batch_size-test_size:batch_size]\r\n",
    "con_train = conts[:batch_size-test_size]\r\n",
    "con_test = conts[batch_size-test_size:batch_size]\r\n",
    "y_train = y[:batch_size-test_size]\r\n",
    "y_test = y[batch_size-test_size:batch_size]"
   ],
   "outputs": [],
   "metadata": {}
  },
  {
   "cell_type": "code",
   "execution_count": 51,
   "source": [
    "len(cat_train)"
   ],
   "outputs": [
    {
     "output_type": "execute_result",
     "data": {
      "text/plain": [
       "48000"
      ]
     },
     "metadata": {},
     "execution_count": 51
    }
   ],
   "metadata": {}
  },
  {
   "cell_type": "code",
   "execution_count": 52,
   "source": [
    "len(cat_test)"
   ],
   "outputs": [
    {
     "output_type": "execute_result",
     "data": {
      "text/plain": [
       "12000"
      ]
     },
     "metadata": {},
     "execution_count": 52
    }
   ],
   "metadata": {}
  },
  {
   "cell_type": "markdown",
   "source": [
    "# Train the model"
   ],
   "metadata": {}
  },
  {
   "cell_type": "code",
   "execution_count": 53,
   "source": [
    "import time\r\n",
    "start_time = time.time()\r\n",
    "\r\n",
    "epochs = 300\r\n",
    "losses = []\r\n",
    "\r\n",
    "for i in range(epochs):\r\n",
    "    i+=1\r\n",
    "    y_pred = model(cat_train, con_train)\r\n",
    "    loss = criterion(y_pred, y_train)\r\n",
    "    losses.append(loss)\r\n",
    "    \r\n",
    "    # a neat trick to save screen space:\r\n",
    "    if i%25 == 1:\r\n",
    "        print(f'epoch: {i:3}  loss: {loss.item():10.8f}')\r\n",
    "\r\n",
    "    optimizer.zero_grad()\r\n",
    "    loss.backward()\r\n",
    "    optimizer.step()\r\n",
    "\r\n",
    "print(f'epoch: {i:3}  loss: {loss.item():10.8f}') # print the last line\r\n",
    "print(f'\\nDuration: {time.time() - start_time:.0f} seconds') # print the time elapsed"
   ],
   "outputs": [
    {
     "output_type": "stream",
     "name": "stdout",
     "text": [
      "epoch:   1  loss: 0.73441482\n",
      "epoch:  26  loss: 0.45091060\n",
      "epoch:  51  loss: 0.35915384\n",
      "epoch:  76  loss: 0.31940192\n",
      "epoch: 101  loss: 0.29912993\n",
      "epoch: 126  loss: 0.28824124\n",
      "epoch: 151  loss: 0.28091645\n",
      "epoch: 176  loss: 0.27713105\n",
      "epoch: 201  loss: 0.27234685\n",
      "epoch: 226  loss: 0.27173251\n",
      "epoch: 251  loss: 0.26831976\n",
      "epoch: 276  loss: 0.26371336\n",
      "epoch: 300  loss: 0.25956479\n",
      "\n",
      "Duration: 1539 seconds\n"
     ]
    }
   ],
   "metadata": {}
  },
  {
   "cell_type": "code",
   "execution_count": 54,
   "source": [
    "# Plot the loss function\r\n",
    "plt.plot(range(epochs), losses)\r\n",
    "plt.ylabel('Cross Entropy Loss')\r\n",
    "plt.xlabel('epoch');"
   ],
   "outputs": [
    {
     "output_type": "display_data",
     "data": {
      "text/plain": [
       "<Figure size 432x288 with 1 Axes>"
      ],
      "image/svg+xml": "<?xml version=\"1.0\" encoding=\"utf-8\" standalone=\"no\"?>\r\n<!DOCTYPE svg PUBLIC \"-//W3C//DTD SVG 1.1//EN\"\r\n  \"http://www.w3.org/Graphics/SVG/1.1/DTD/svg11.dtd\">\r\n<!-- Created with matplotlib (https://matplotlib.org/) -->\r\n<svg height=\"265.69625pt\" version=\"1.1\" viewBox=\"0 0 389.28125 265.69625\" width=\"389.28125pt\" xmlns=\"http://www.w3.org/2000/svg\" xmlns:xlink=\"http://www.w3.org/1999/xlink\">\r\n <defs>\r\n  <style type=\"text/css\">\r\n*{stroke-linecap:butt;stroke-linejoin:round;}\r\n  </style>\r\n </defs>\r\n <g id=\"figure_1\">\r\n  <g id=\"patch_1\">\r\n   <path d=\"M 0 265.69625 \r\nL 389.28125 265.69625 \r\nL 389.28125 0 \r\nL 0 0 \r\nz\r\n\" style=\"fill:none;\"/>\r\n  </g>\r\n  <g id=\"axes_1\">\r\n   <g id=\"patch_2\">\r\n    <path d=\"M 43.78125 228.14 \r\nL 378.58125 228.14 \r\nL 378.58125 10.7 \r\nL 43.78125 10.7 \r\nz\r\n\" style=\"fill:#ffffff;\"/>\r\n   </g>\r\n   <g id=\"matplotlib.axis_1\">\r\n    <g id=\"xtick_1\">\r\n     <g id=\"line2d_1\">\r\n      <defs>\r\n       <path d=\"M 0 0 \r\nL 0 3.5 \r\n\" id=\"mfe6357434f\" style=\"stroke:#000000;stroke-width:0.8;\"/>\r\n      </defs>\r\n      <g>\r\n       <use style=\"stroke:#000000;stroke-width:0.8;\" x=\"58.999432\" xlink:href=\"#mfe6357434f\" y=\"228.14\"/>\r\n      </g>\r\n     </g>\r\n     <g id=\"text_1\">\r\n      <!-- 0 -->\r\n      <defs>\r\n       <path d=\"M 31.78125 66.40625 \r\nQ 24.171875 66.40625 20.328125 58.90625 \r\nQ 16.5 51.421875 16.5 36.375 \r\nQ 16.5 21.390625 20.328125 13.890625 \r\nQ 24.171875 6.390625 31.78125 6.390625 \r\nQ 39.453125 6.390625 43.28125 13.890625 \r\nQ 47.125 21.390625 47.125 36.375 \r\nQ 47.125 51.421875 43.28125 58.90625 \r\nQ 39.453125 66.40625 31.78125 66.40625 \r\nz\r\nM 31.78125 74.21875 \r\nQ 44.046875 74.21875 50.515625 64.515625 \r\nQ 56.984375 54.828125 56.984375 36.375 \r\nQ 56.984375 17.96875 50.515625 8.265625 \r\nQ 44.046875 -1.421875 31.78125 -1.421875 \r\nQ 19.53125 -1.421875 13.0625 8.265625 \r\nQ 6.59375 17.96875 6.59375 36.375 \r\nQ 6.59375 54.828125 13.0625 64.515625 \r\nQ 19.53125 74.21875 31.78125 74.21875 \r\nz\r\n\" id=\"DejaVuSans-48\"/>\r\n      </defs>\r\n      <g transform=\"translate(55.818182 242.738437)scale(0.1 -0.1)\">\r\n       <use xlink:href=\"#DejaVuSans-48\"/>\r\n      </g>\r\n     </g>\r\n    </g>\r\n    <g id=\"xtick_2\">\r\n     <g id=\"line2d_2\">\r\n      <g>\r\n       <use style=\"stroke:#000000;stroke-width:0.8;\" x=\"109.896361\" xlink:href=\"#mfe6357434f\" y=\"228.14\"/>\r\n      </g>\r\n     </g>\r\n     <g id=\"text_2\">\r\n      <!-- 50 -->\r\n      <defs>\r\n       <path d=\"M 10.796875 72.90625 \r\nL 49.515625 72.90625 \r\nL 49.515625 64.59375 \r\nL 19.828125 64.59375 \r\nL 19.828125 46.734375 \r\nQ 21.96875 47.46875 24.109375 47.828125 \r\nQ 26.265625 48.1875 28.421875 48.1875 \r\nQ 40.625 48.1875 47.75 41.5 \r\nQ 54.890625 34.8125 54.890625 23.390625 \r\nQ 54.890625 11.625 47.5625 5.09375 \r\nQ 40.234375 -1.421875 26.90625 -1.421875 \r\nQ 22.3125 -1.421875 17.546875 -0.640625 \r\nQ 12.796875 0.140625 7.71875 1.703125 \r\nL 7.71875 11.625 \r\nQ 12.109375 9.234375 16.796875 8.0625 \r\nQ 21.484375 6.890625 26.703125 6.890625 \r\nQ 35.15625 6.890625 40.078125 11.328125 \r\nQ 45.015625 15.765625 45.015625 23.390625 \r\nQ 45.015625 31 40.078125 35.4375 \r\nQ 35.15625 39.890625 26.703125 39.890625 \r\nQ 22.75 39.890625 18.8125 39.015625 \r\nQ 14.890625 38.140625 10.796875 36.28125 \r\nz\r\n\" id=\"DejaVuSans-53\"/>\r\n      </defs>\r\n      <g transform=\"translate(103.533861 242.738437)scale(0.1 -0.1)\">\r\n       <use xlink:href=\"#DejaVuSans-53\"/>\r\n       <use x=\"63.623047\" xlink:href=\"#DejaVuSans-48\"/>\r\n      </g>\r\n     </g>\r\n    </g>\r\n    <g id=\"xtick_3\">\r\n     <g id=\"line2d_3\">\r\n      <g>\r\n       <use style=\"stroke:#000000;stroke-width:0.8;\" x=\"160.79329\" xlink:href=\"#mfe6357434f\" y=\"228.14\"/>\r\n      </g>\r\n     </g>\r\n     <g id=\"text_3\">\r\n      <!-- 100 -->\r\n      <defs>\r\n       <path d=\"M 12.40625 8.296875 \r\nL 28.515625 8.296875 \r\nL 28.515625 63.921875 \r\nL 10.984375 60.40625 \r\nL 10.984375 69.390625 \r\nL 28.421875 72.90625 \r\nL 38.28125 72.90625 \r\nL 38.28125 8.296875 \r\nL 54.390625 8.296875 \r\nL 54.390625 0 \r\nL 12.40625 0 \r\nz\r\n\" id=\"DejaVuSans-49\"/>\r\n      </defs>\r\n      <g transform=\"translate(151.24954 242.738437)scale(0.1 -0.1)\">\r\n       <use xlink:href=\"#DejaVuSans-49\"/>\r\n       <use x=\"63.623047\" xlink:href=\"#DejaVuSans-48\"/>\r\n       <use x=\"127.246094\" xlink:href=\"#DejaVuSans-48\"/>\r\n      </g>\r\n     </g>\r\n    </g>\r\n    <g id=\"xtick_4\">\r\n     <g id=\"line2d_4\">\r\n      <g>\r\n       <use style=\"stroke:#000000;stroke-width:0.8;\" x=\"211.690219\" xlink:href=\"#mfe6357434f\" y=\"228.14\"/>\r\n      </g>\r\n     </g>\r\n     <g id=\"text_4\">\r\n      <!-- 150 -->\r\n      <g transform=\"translate(202.146469 242.738437)scale(0.1 -0.1)\">\r\n       <use xlink:href=\"#DejaVuSans-49\"/>\r\n       <use x=\"63.623047\" xlink:href=\"#DejaVuSans-53\"/>\r\n       <use x=\"127.246094\" xlink:href=\"#DejaVuSans-48\"/>\r\n      </g>\r\n     </g>\r\n    </g>\r\n    <g id=\"xtick_5\">\r\n     <g id=\"line2d_5\">\r\n      <g>\r\n       <use style=\"stroke:#000000;stroke-width:0.8;\" x=\"262.587148\" xlink:href=\"#mfe6357434f\" y=\"228.14\"/>\r\n      </g>\r\n     </g>\r\n     <g id=\"text_5\">\r\n      <!-- 200 -->\r\n      <defs>\r\n       <path d=\"M 19.1875 8.296875 \r\nL 53.609375 8.296875 \r\nL 53.609375 0 \r\nL 7.328125 0 \r\nL 7.328125 8.296875 \r\nQ 12.9375 14.109375 22.625 23.890625 \r\nQ 32.328125 33.6875 34.8125 36.53125 \r\nQ 39.546875 41.84375 41.421875 45.53125 \r\nQ 43.3125 49.21875 43.3125 52.78125 \r\nQ 43.3125 58.59375 39.234375 62.25 \r\nQ 35.15625 65.921875 28.609375 65.921875 \r\nQ 23.96875 65.921875 18.8125 64.3125 \r\nQ 13.671875 62.703125 7.8125 59.421875 \r\nL 7.8125 69.390625 \r\nQ 13.765625 71.78125 18.9375 73 \r\nQ 24.125 74.21875 28.421875 74.21875 \r\nQ 39.75 74.21875 46.484375 68.546875 \r\nQ 53.21875 62.890625 53.21875 53.421875 \r\nQ 53.21875 48.921875 51.53125 44.890625 \r\nQ 49.859375 40.875 45.40625 35.40625 \r\nQ 44.1875 33.984375 37.640625 27.21875 \r\nQ 31.109375 20.453125 19.1875 8.296875 \r\nz\r\n\" id=\"DejaVuSans-50\"/>\r\n      </defs>\r\n      <g transform=\"translate(253.043398 242.738437)scale(0.1 -0.1)\">\r\n       <use xlink:href=\"#DejaVuSans-50\"/>\r\n       <use x=\"63.623047\" xlink:href=\"#DejaVuSans-48\"/>\r\n       <use x=\"127.246094\" xlink:href=\"#DejaVuSans-48\"/>\r\n      </g>\r\n     </g>\r\n    </g>\r\n    <g id=\"xtick_6\">\r\n     <g id=\"line2d_6\">\r\n      <g>\r\n       <use style=\"stroke:#000000;stroke-width:0.8;\" x=\"313.484078\" xlink:href=\"#mfe6357434f\" y=\"228.14\"/>\r\n      </g>\r\n     </g>\r\n     <g id=\"text_6\">\r\n      <!-- 250 -->\r\n      <g transform=\"translate(303.940328 242.738437)scale(0.1 -0.1)\">\r\n       <use xlink:href=\"#DejaVuSans-50\"/>\r\n       <use x=\"63.623047\" xlink:href=\"#DejaVuSans-53\"/>\r\n       <use x=\"127.246094\" xlink:href=\"#DejaVuSans-48\"/>\r\n      </g>\r\n     </g>\r\n    </g>\r\n    <g id=\"xtick_7\">\r\n     <g id=\"line2d_7\">\r\n      <g>\r\n       <use style=\"stroke:#000000;stroke-width:0.8;\" x=\"364.381007\" xlink:href=\"#mfe6357434f\" y=\"228.14\"/>\r\n      </g>\r\n     </g>\r\n     <g id=\"text_7\">\r\n      <!-- 300 -->\r\n      <defs>\r\n       <path d=\"M 40.578125 39.3125 \r\nQ 47.65625 37.796875 51.625 33 \r\nQ 55.609375 28.21875 55.609375 21.1875 \r\nQ 55.609375 10.40625 48.1875 4.484375 \r\nQ 40.765625 -1.421875 27.09375 -1.421875 \r\nQ 22.515625 -1.421875 17.65625 -0.515625 \r\nQ 12.796875 0.390625 7.625 2.203125 \r\nL 7.625 11.71875 \r\nQ 11.71875 9.328125 16.59375 8.109375 \r\nQ 21.484375 6.890625 26.8125 6.890625 \r\nQ 36.078125 6.890625 40.9375 10.546875 \r\nQ 45.796875 14.203125 45.796875 21.1875 \r\nQ 45.796875 27.640625 41.28125 31.265625 \r\nQ 36.765625 34.90625 28.71875 34.90625 \r\nL 20.21875 34.90625 \r\nL 20.21875 43.015625 \r\nL 29.109375 43.015625 \r\nQ 36.375 43.015625 40.234375 45.921875 \r\nQ 44.09375 48.828125 44.09375 54.296875 \r\nQ 44.09375 59.90625 40.109375 62.90625 \r\nQ 36.140625 65.921875 28.71875 65.921875 \r\nQ 24.65625 65.921875 20.015625 65.03125 \r\nQ 15.375 64.15625 9.8125 62.3125 \r\nL 9.8125 71.09375 \r\nQ 15.4375 72.65625 20.34375 73.4375 \r\nQ 25.25 74.21875 29.59375 74.21875 \r\nQ 40.828125 74.21875 47.359375 69.109375 \r\nQ 53.90625 64.015625 53.90625 55.328125 \r\nQ 53.90625 49.265625 50.4375 45.09375 \r\nQ 46.96875 40.921875 40.578125 39.3125 \r\nz\r\n\" id=\"DejaVuSans-51\"/>\r\n      </defs>\r\n      <g transform=\"translate(354.837257 242.738437)scale(0.1 -0.1)\">\r\n       <use xlink:href=\"#DejaVuSans-51\"/>\r\n       <use x=\"63.623047\" xlink:href=\"#DejaVuSans-48\"/>\r\n       <use x=\"127.246094\" xlink:href=\"#DejaVuSans-48\"/>\r\n      </g>\r\n     </g>\r\n    </g>\r\n    <g id=\"text_8\">\r\n     <!-- epoch -->\r\n     <defs>\r\n      <path d=\"M 56.203125 29.59375 \r\nL 56.203125 25.203125 \r\nL 14.890625 25.203125 \r\nQ 15.484375 15.921875 20.484375 11.0625 \r\nQ 25.484375 6.203125 34.421875 6.203125 \r\nQ 39.59375 6.203125 44.453125 7.46875 \r\nQ 49.3125 8.734375 54.109375 11.28125 \r\nL 54.109375 2.78125 \r\nQ 49.265625 0.734375 44.1875 -0.34375 \r\nQ 39.109375 -1.421875 33.890625 -1.421875 \r\nQ 20.796875 -1.421875 13.15625 6.1875 \r\nQ 5.515625 13.8125 5.515625 26.8125 \r\nQ 5.515625 40.234375 12.765625 48.109375 \r\nQ 20.015625 56 32.328125 56 \r\nQ 43.359375 56 49.78125 48.890625 \r\nQ 56.203125 41.796875 56.203125 29.59375 \r\nz\r\nM 47.21875 32.234375 \r\nQ 47.125 39.59375 43.09375 43.984375 \r\nQ 39.0625 48.390625 32.421875 48.390625 \r\nQ 24.90625 48.390625 20.390625 44.140625 \r\nQ 15.875 39.890625 15.1875 32.171875 \r\nz\r\n\" id=\"DejaVuSans-101\"/>\r\n      <path d=\"M 18.109375 8.203125 \r\nL 18.109375 -20.796875 \r\nL 9.078125 -20.796875 \r\nL 9.078125 54.6875 \r\nL 18.109375 54.6875 \r\nL 18.109375 46.390625 \r\nQ 20.953125 51.265625 25.265625 53.625 \r\nQ 29.59375 56 35.59375 56 \r\nQ 45.5625 56 51.78125 48.09375 \r\nQ 58.015625 40.1875 58.015625 27.296875 \r\nQ 58.015625 14.40625 51.78125 6.484375 \r\nQ 45.5625 -1.421875 35.59375 -1.421875 \r\nQ 29.59375 -1.421875 25.265625 0.953125 \r\nQ 20.953125 3.328125 18.109375 8.203125 \r\nz\r\nM 48.6875 27.296875 \r\nQ 48.6875 37.203125 44.609375 42.84375 \r\nQ 40.53125 48.484375 33.40625 48.484375 \r\nQ 26.265625 48.484375 22.1875 42.84375 \r\nQ 18.109375 37.203125 18.109375 27.296875 \r\nQ 18.109375 17.390625 22.1875 11.75 \r\nQ 26.265625 6.109375 33.40625 6.109375 \r\nQ 40.53125 6.109375 44.609375 11.75 \r\nQ 48.6875 17.390625 48.6875 27.296875 \r\nz\r\n\" id=\"DejaVuSans-112\"/>\r\n      <path d=\"M 30.609375 48.390625 \r\nQ 23.390625 48.390625 19.1875 42.75 \r\nQ 14.984375 37.109375 14.984375 27.296875 \r\nQ 14.984375 17.484375 19.15625 11.84375 \r\nQ 23.34375 6.203125 30.609375 6.203125 \r\nQ 37.796875 6.203125 41.984375 11.859375 \r\nQ 46.1875 17.53125 46.1875 27.296875 \r\nQ 46.1875 37.015625 41.984375 42.703125 \r\nQ 37.796875 48.390625 30.609375 48.390625 \r\nz\r\nM 30.609375 56 \r\nQ 42.328125 56 49.015625 48.375 \r\nQ 55.71875 40.765625 55.71875 27.296875 \r\nQ 55.71875 13.875 49.015625 6.21875 \r\nQ 42.328125 -1.421875 30.609375 -1.421875 \r\nQ 18.84375 -1.421875 12.171875 6.21875 \r\nQ 5.515625 13.875 5.515625 27.296875 \r\nQ 5.515625 40.765625 12.171875 48.375 \r\nQ 18.84375 56 30.609375 56 \r\nz\r\n\" id=\"DejaVuSans-111\"/>\r\n      <path d=\"M 48.78125 52.59375 \r\nL 48.78125 44.1875 \r\nQ 44.96875 46.296875 41.140625 47.34375 \r\nQ 37.3125 48.390625 33.40625 48.390625 \r\nQ 24.65625 48.390625 19.8125 42.84375 \r\nQ 14.984375 37.3125 14.984375 27.296875 \r\nQ 14.984375 17.28125 19.8125 11.734375 \r\nQ 24.65625 6.203125 33.40625 6.203125 \r\nQ 37.3125 6.203125 41.140625 7.25 \r\nQ 44.96875 8.296875 48.78125 10.40625 \r\nL 48.78125 2.09375 \r\nQ 45.015625 0.34375 40.984375 -0.53125 \r\nQ 36.96875 -1.421875 32.421875 -1.421875 \r\nQ 20.0625 -1.421875 12.78125 6.34375 \r\nQ 5.515625 14.109375 5.515625 27.296875 \r\nQ 5.515625 40.671875 12.859375 48.328125 \r\nQ 20.21875 56 33.015625 56 \r\nQ 37.15625 56 41.109375 55.140625 \r\nQ 45.0625 54.296875 48.78125 52.59375 \r\nz\r\n\" id=\"DejaVuSans-99\"/>\r\n      <path d=\"M 54.890625 33.015625 \r\nL 54.890625 0 \r\nL 45.90625 0 \r\nL 45.90625 32.71875 \r\nQ 45.90625 40.484375 42.875 44.328125 \r\nQ 39.84375 48.1875 33.796875 48.1875 \r\nQ 26.515625 48.1875 22.3125 43.546875 \r\nQ 18.109375 38.921875 18.109375 30.90625 \r\nL 18.109375 0 \r\nL 9.078125 0 \r\nL 9.078125 75.984375 \r\nL 18.109375 75.984375 \r\nL 18.109375 46.1875 \r\nQ 21.34375 51.125 25.703125 53.5625 \r\nQ 30.078125 56 35.796875 56 \r\nQ 45.21875 56 50.046875 50.171875 \r\nQ 54.890625 44.34375 54.890625 33.015625 \r\nz\r\n\" id=\"DejaVuSans-104\"/>\r\n     </defs>\r\n     <g transform=\"translate(195.953125 256.416562)scale(0.1 -0.1)\">\r\n      <use xlink:href=\"#DejaVuSans-101\"/>\r\n      <use x=\"61.523438\" xlink:href=\"#DejaVuSans-112\"/>\r\n      <use x=\"125\" xlink:href=\"#DejaVuSans-111\"/>\r\n      <use x=\"186.181641\" xlink:href=\"#DejaVuSans-99\"/>\r\n      <use x=\"241.162109\" xlink:href=\"#DejaVuSans-104\"/>\r\n     </g>\r\n    </g>\r\n   </g>\r\n   <g id=\"matplotlib.axis_2\">\r\n    <g id=\"ytick_1\">\r\n     <g id=\"line2d_8\">\r\n      <defs>\r\n       <path d=\"M 0 0 \r\nL -3.5 0 \r\n\" id=\"m6c129d1c3d\" style=\"stroke:#000000;stroke-width:0.8;\"/>\r\n      </defs>\r\n      <g>\r\n       <use style=\"stroke:#000000;stroke-width:0.8;\" x=\"43.78125\" xlink:href=\"#m6c129d1c3d\" y=\"200.475279\"/>\r\n      </g>\r\n     </g>\r\n     <g id=\"text_9\">\r\n      <!-- 0.3 -->\r\n      <defs>\r\n       <path d=\"M 10.6875 12.40625 \r\nL 21 12.40625 \r\nL 21 0 \r\nL 10.6875 0 \r\nz\r\n\" id=\"DejaVuSans-46\"/>\r\n      </defs>\r\n      <g transform=\"translate(20.878125 204.274498)scale(0.1 -0.1)\">\r\n       <use xlink:href=\"#DejaVuSans-48\"/>\r\n       <use x=\"63.623047\" xlink:href=\"#DejaVuSans-46\"/>\r\n       <use x=\"95.410156\" xlink:href=\"#DejaVuSans-51\"/>\r\n      </g>\r\n     </g>\r\n    </g>\r\n    <g id=\"ytick_2\">\r\n     <g id=\"line2d_9\">\r\n      <g>\r\n       <use style=\"stroke:#000000;stroke-width:0.8;\" x=\"43.78125\" xlink:href=\"#m6c129d1c3d\" y=\"159.065172\"/>\r\n      </g>\r\n     </g>\r\n     <g id=\"text_10\">\r\n      <!-- 0.4 -->\r\n      <defs>\r\n       <path d=\"M 37.796875 64.3125 \r\nL 12.890625 25.390625 \r\nL 37.796875 25.390625 \r\nz\r\nM 35.203125 72.90625 \r\nL 47.609375 72.90625 \r\nL 47.609375 25.390625 \r\nL 58.015625 25.390625 \r\nL 58.015625 17.1875 \r\nL 47.609375 17.1875 \r\nL 47.609375 0 \r\nL 37.796875 0 \r\nL 37.796875 17.1875 \r\nL 4.890625 17.1875 \r\nL 4.890625 26.703125 \r\nz\r\n\" id=\"DejaVuSans-52\"/>\r\n      </defs>\r\n      <g transform=\"translate(20.878125 162.86439)scale(0.1 -0.1)\">\r\n       <use xlink:href=\"#DejaVuSans-48\"/>\r\n       <use x=\"63.623047\" xlink:href=\"#DejaVuSans-46\"/>\r\n       <use x=\"95.410156\" xlink:href=\"#DejaVuSans-52\"/>\r\n      </g>\r\n     </g>\r\n    </g>\r\n    <g id=\"ytick_3\">\r\n     <g id=\"line2d_10\">\r\n      <g>\r\n       <use style=\"stroke:#000000;stroke-width:0.8;\" x=\"43.78125\" xlink:href=\"#m6c129d1c3d\" y=\"117.655064\"/>\r\n      </g>\r\n     </g>\r\n     <g id=\"text_11\">\r\n      <!-- 0.5 -->\r\n      <g transform=\"translate(20.878125 121.454283)scale(0.1 -0.1)\">\r\n       <use xlink:href=\"#DejaVuSans-48\"/>\r\n       <use x=\"63.623047\" xlink:href=\"#DejaVuSans-46\"/>\r\n       <use x=\"95.410156\" xlink:href=\"#DejaVuSans-53\"/>\r\n      </g>\r\n     </g>\r\n    </g>\r\n    <g id=\"ytick_4\">\r\n     <g id=\"line2d_11\">\r\n      <g>\r\n       <use style=\"stroke:#000000;stroke-width:0.8;\" x=\"43.78125\" xlink:href=\"#m6c129d1c3d\" y=\"76.244956\"/>\r\n      </g>\r\n     </g>\r\n     <g id=\"text_12\">\r\n      <!-- 0.6 -->\r\n      <defs>\r\n       <path d=\"M 33.015625 40.375 \r\nQ 26.375 40.375 22.484375 35.828125 \r\nQ 18.609375 31.296875 18.609375 23.390625 \r\nQ 18.609375 15.53125 22.484375 10.953125 \r\nQ 26.375 6.390625 33.015625 6.390625 \r\nQ 39.65625 6.390625 43.53125 10.953125 \r\nQ 47.40625 15.53125 47.40625 23.390625 \r\nQ 47.40625 31.296875 43.53125 35.828125 \r\nQ 39.65625 40.375 33.015625 40.375 \r\nz\r\nM 52.59375 71.296875 \r\nL 52.59375 62.3125 \r\nQ 48.875 64.0625 45.09375 64.984375 \r\nQ 41.3125 65.921875 37.59375 65.921875 \r\nQ 27.828125 65.921875 22.671875 59.328125 \r\nQ 17.53125 52.734375 16.796875 39.40625 \r\nQ 19.671875 43.65625 24.015625 45.921875 \r\nQ 28.375 48.1875 33.59375 48.1875 \r\nQ 44.578125 48.1875 50.953125 41.515625 \r\nQ 57.328125 34.859375 57.328125 23.390625 \r\nQ 57.328125 12.15625 50.6875 5.359375 \r\nQ 44.046875 -1.421875 33.015625 -1.421875 \r\nQ 20.359375 -1.421875 13.671875 8.265625 \r\nQ 6.984375 17.96875 6.984375 36.375 \r\nQ 6.984375 53.65625 15.1875 63.9375 \r\nQ 23.390625 74.21875 37.203125 74.21875 \r\nQ 40.921875 74.21875 44.703125 73.484375 \r\nQ 48.484375 72.75 52.59375 71.296875 \r\nz\r\n\" id=\"DejaVuSans-54\"/>\r\n      </defs>\r\n      <g transform=\"translate(20.878125 80.044175)scale(0.1 -0.1)\">\r\n       <use xlink:href=\"#DejaVuSans-48\"/>\r\n       <use x=\"63.623047\" xlink:href=\"#DejaVuSans-46\"/>\r\n       <use x=\"95.410156\" xlink:href=\"#DejaVuSans-54\"/>\r\n      </g>\r\n     </g>\r\n    </g>\r\n    <g id=\"ytick_5\">\r\n     <g id=\"line2d_12\">\r\n      <g>\r\n       <use style=\"stroke:#000000;stroke-width:0.8;\" x=\"43.78125\" xlink:href=\"#m6c129d1c3d\" y=\"34.834849\"/>\r\n      </g>\r\n     </g>\r\n     <g id=\"text_13\">\r\n      <!-- 0.7 -->\r\n      <defs>\r\n       <path d=\"M 8.203125 72.90625 \r\nL 55.078125 72.90625 \r\nL 55.078125 68.703125 \r\nL 28.609375 0 \r\nL 18.3125 0 \r\nL 43.21875 64.59375 \r\nL 8.203125 64.59375 \r\nz\r\n\" id=\"DejaVuSans-55\"/>\r\n      </defs>\r\n      <g transform=\"translate(20.878125 38.634067)scale(0.1 -0.1)\">\r\n       <use xlink:href=\"#DejaVuSans-48\"/>\r\n       <use x=\"63.623047\" xlink:href=\"#DejaVuSans-46\"/>\r\n       <use x=\"95.410156\" xlink:href=\"#DejaVuSans-55\"/>\r\n      </g>\r\n     </g>\r\n    </g>\r\n    <g id=\"text_14\">\r\n     <!-- Cross Entropy Loss -->\r\n     <defs>\r\n      <path d=\"M 64.40625 67.28125 \r\nL 64.40625 56.890625 \r\nQ 59.421875 61.53125 53.78125 63.8125 \r\nQ 48.140625 66.109375 41.796875 66.109375 \r\nQ 29.296875 66.109375 22.65625 58.46875 \r\nQ 16.015625 50.828125 16.015625 36.375 \r\nQ 16.015625 21.96875 22.65625 14.328125 \r\nQ 29.296875 6.6875 41.796875 6.6875 \r\nQ 48.140625 6.6875 53.78125 8.984375 \r\nQ 59.421875 11.28125 64.40625 15.921875 \r\nL 64.40625 5.609375 \r\nQ 59.234375 2.09375 53.4375 0.328125 \r\nQ 47.65625 -1.421875 41.21875 -1.421875 \r\nQ 24.65625 -1.421875 15.125 8.703125 \r\nQ 5.609375 18.84375 5.609375 36.375 \r\nQ 5.609375 53.953125 15.125 64.078125 \r\nQ 24.65625 74.21875 41.21875 74.21875 \r\nQ 47.75 74.21875 53.53125 72.484375 \r\nQ 59.328125 70.75 64.40625 67.28125 \r\nz\r\n\" id=\"DejaVuSans-67\"/>\r\n      <path d=\"M 41.109375 46.296875 \r\nQ 39.59375 47.171875 37.8125 47.578125 \r\nQ 36.03125 48 33.890625 48 \r\nQ 26.265625 48 22.1875 43.046875 \r\nQ 18.109375 38.09375 18.109375 28.8125 \r\nL 18.109375 0 \r\nL 9.078125 0 \r\nL 9.078125 54.6875 \r\nL 18.109375 54.6875 \r\nL 18.109375 46.1875 \r\nQ 20.953125 51.171875 25.484375 53.578125 \r\nQ 30.03125 56 36.53125 56 \r\nQ 37.453125 56 38.578125 55.875 \r\nQ 39.703125 55.765625 41.0625 55.515625 \r\nz\r\n\" id=\"DejaVuSans-114\"/>\r\n      <path d=\"M 44.28125 53.078125 \r\nL 44.28125 44.578125 \r\nQ 40.484375 46.53125 36.375 47.5 \r\nQ 32.28125 48.484375 27.875 48.484375 \r\nQ 21.1875 48.484375 17.84375 46.4375 \r\nQ 14.5 44.390625 14.5 40.28125 \r\nQ 14.5 37.15625 16.890625 35.375 \r\nQ 19.28125 33.59375 26.515625 31.984375 \r\nL 29.59375 31.296875 \r\nQ 39.15625 29.25 43.1875 25.515625 \r\nQ 47.21875 21.78125 47.21875 15.09375 \r\nQ 47.21875 7.46875 41.1875 3.015625 \r\nQ 35.15625 -1.421875 24.609375 -1.421875 \r\nQ 20.21875 -1.421875 15.453125 -0.5625 \r\nQ 10.6875 0.296875 5.421875 2 \r\nL 5.421875 11.28125 \r\nQ 10.40625 8.6875 15.234375 7.390625 \r\nQ 20.0625 6.109375 24.8125 6.109375 \r\nQ 31.15625 6.109375 34.5625 8.28125 \r\nQ 37.984375 10.453125 37.984375 14.40625 \r\nQ 37.984375 18.0625 35.515625 20.015625 \r\nQ 33.0625 21.96875 24.703125 23.78125 \r\nL 21.578125 24.515625 \r\nQ 13.234375 26.265625 9.515625 29.90625 \r\nQ 5.8125 33.546875 5.8125 39.890625 \r\nQ 5.8125 47.609375 11.28125 51.796875 \r\nQ 16.75 56 26.8125 56 \r\nQ 31.78125 56 36.171875 55.265625 \r\nQ 40.578125 54.546875 44.28125 53.078125 \r\nz\r\n\" id=\"DejaVuSans-115\"/>\r\n      <path id=\"DejaVuSans-32\"/>\r\n      <path d=\"M 9.8125 72.90625 \r\nL 55.90625 72.90625 \r\nL 55.90625 64.59375 \r\nL 19.671875 64.59375 \r\nL 19.671875 43.015625 \r\nL 54.390625 43.015625 \r\nL 54.390625 34.71875 \r\nL 19.671875 34.71875 \r\nL 19.671875 8.296875 \r\nL 56.78125 8.296875 \r\nL 56.78125 0 \r\nL 9.8125 0 \r\nz\r\n\" id=\"DejaVuSans-69\"/>\r\n      <path d=\"M 54.890625 33.015625 \r\nL 54.890625 0 \r\nL 45.90625 0 \r\nL 45.90625 32.71875 \r\nQ 45.90625 40.484375 42.875 44.328125 \r\nQ 39.84375 48.1875 33.796875 48.1875 \r\nQ 26.515625 48.1875 22.3125 43.546875 \r\nQ 18.109375 38.921875 18.109375 30.90625 \r\nL 18.109375 0 \r\nL 9.078125 0 \r\nL 9.078125 54.6875 \r\nL 18.109375 54.6875 \r\nL 18.109375 46.1875 \r\nQ 21.34375 51.125 25.703125 53.5625 \r\nQ 30.078125 56 35.796875 56 \r\nQ 45.21875 56 50.046875 50.171875 \r\nQ 54.890625 44.34375 54.890625 33.015625 \r\nz\r\n\" id=\"DejaVuSans-110\"/>\r\n      <path d=\"M 18.3125 70.21875 \r\nL 18.3125 54.6875 \r\nL 36.8125 54.6875 \r\nL 36.8125 47.703125 \r\nL 18.3125 47.703125 \r\nL 18.3125 18.015625 \r\nQ 18.3125 11.328125 20.140625 9.421875 \r\nQ 21.96875 7.515625 27.59375 7.515625 \r\nL 36.8125 7.515625 \r\nL 36.8125 0 \r\nL 27.59375 0 \r\nQ 17.1875 0 13.234375 3.875 \r\nQ 9.28125 7.765625 9.28125 18.015625 \r\nL 9.28125 47.703125 \r\nL 2.6875 47.703125 \r\nL 2.6875 54.6875 \r\nL 9.28125 54.6875 \r\nL 9.28125 70.21875 \r\nz\r\n\" id=\"DejaVuSans-116\"/>\r\n      <path d=\"M 32.171875 -5.078125 \r\nQ 28.375 -14.84375 24.75 -17.8125 \r\nQ 21.140625 -20.796875 15.09375 -20.796875 \r\nL 7.90625 -20.796875 \r\nL 7.90625 -13.28125 \r\nL 13.1875 -13.28125 \r\nQ 16.890625 -13.28125 18.9375 -11.515625 \r\nQ 21 -9.765625 23.484375 -3.21875 \r\nL 25.09375 0.875 \r\nL 2.984375 54.6875 \r\nL 12.5 54.6875 \r\nL 29.59375 11.921875 \r\nL 46.6875 54.6875 \r\nL 56.203125 54.6875 \r\nz\r\n\" id=\"DejaVuSans-121\"/>\r\n      <path d=\"M 9.8125 72.90625 \r\nL 19.671875 72.90625 \r\nL 19.671875 8.296875 \r\nL 55.171875 8.296875 \r\nL 55.171875 0 \r\nL 9.8125 0 \r\nz\r\n\" id=\"DejaVuSans-76\"/>\r\n     </defs>\r\n     <g transform=\"translate(14.798438 167.00125)rotate(-90)scale(0.1 -0.1)\">\r\n      <use xlink:href=\"#DejaVuSans-67\"/>\r\n      <use x=\"69.824219\" xlink:href=\"#DejaVuSans-114\"/>\r\n      <use x=\"110.90625\" xlink:href=\"#DejaVuSans-111\"/>\r\n      <use x=\"172.087891\" xlink:href=\"#DejaVuSans-115\"/>\r\n      <use x=\"224.1875\" xlink:href=\"#DejaVuSans-115\"/>\r\n      <use x=\"276.287109\" xlink:href=\"#DejaVuSans-32\"/>\r\n      <use x=\"308.074219\" xlink:href=\"#DejaVuSans-69\"/>\r\n      <use x=\"371.257812\" xlink:href=\"#DejaVuSans-110\"/>\r\n      <use x=\"434.636719\" xlink:href=\"#DejaVuSans-116\"/>\r\n      <use x=\"473.845703\" xlink:href=\"#DejaVuSans-114\"/>\r\n      <use x=\"514.927734\" xlink:href=\"#DejaVuSans-111\"/>\r\n      <use x=\"576.109375\" xlink:href=\"#DejaVuSans-112\"/>\r\n      <use x=\"639.585938\" xlink:href=\"#DejaVuSans-121\"/>\r\n      <use x=\"698.765625\" xlink:href=\"#DejaVuSans-32\"/>\r\n      <use x=\"730.552734\" xlink:href=\"#DejaVuSans-76\"/>\r\n      <use x=\"786.25\" xlink:href=\"#DejaVuSans-111\"/>\r\n      <use x=\"847.431641\" xlink:href=\"#DejaVuSans-115\"/>\r\n      <use x=\"899.53125\" xlink:href=\"#DejaVuSans-115\"/>\r\n     </g>\r\n    </g>\r\n   </g>\r\n   <g id=\"line2d_13\">\r\n    <path clip-path=\"url(#p22a65995cb)\" d=\"M 58.999432 20.583636 \r\nL 60.01737 30.122944 \r\nL 61.035309 38.361961 \r\nL 63.071186 52.250076 \r\nL 64.089125 57.415228 \r\nL 66.125002 69.35983 \r\nL 67.14294 74.349712 \r\nL 68.160879 78.275785 \r\nL 69.178818 83.856415 \r\nL 70.196756 88.757021 \r\nL 71.214695 92.452956 \r\nL 72.232633 97.478948 \r\nL 73.250572 100.416838 \r\nL 74.268511 105.501279 \r\nL 77.322326 116.629562 \r\nL 78.340265 120.331643 \r\nL 79.358203 123.480839 \r\nL 80.376142 127.994919 \r\nL 83.429958 135.006582 \r\nL 84.447896 137.983038 \r\nL 85.465835 140.130983 \r\nL 87.501712 145.639823 \r\nL 88.519651 147.668934 \r\nL 89.537589 150.642047 \r\nL 90.555528 151.842991 \r\nL 92.591405 155.755637 \r\nL 93.609344 157.499691 \r\nL 94.627282 158.664168 \r\nL 95.645221 160.895884 \r\nL 96.663159 161.407265 \r\nL 99.716975 165.682568 \r\nL 100.734914 166.39068 \r\nL 101.752852 168.948179 \r\nL 103.788729 169.876716 \r\nL 104.806668 171.904001 \r\nL 105.824607 172.158118 \r\nL 106.842545 172.692306 \r\nL 107.860484 174.307889 \r\nL 108.878422 175.056282 \r\nL 109.896361 175.979612 \r\nL 110.9143 176.672667 \r\nL 111.932238 176.888774 \r\nL 112.950177 179.248838 \r\nL 113.968115 179.028536 \r\nL 114.986054 179.69802 \r\nL 116.003992 181.233953 \r\nL 117.021931 181.523181 \r\nL 118.03987 183.342331 \r\nL 119.057808 183.834658 \r\nL 120.075747 183.557969 \r\nL 121.093685 184.67777 \r\nL 122.111624 184.739241 \r\nL 123.129563 186.435696 \r\nL 124.147501 186.420677 \r\nL 125.16544 186.204756 \r\nL 127.201317 189.154234 \r\nL 128.219255 188.704917 \r\nL 129.237194 188.766549 \r\nL 130.255133 189.951721 \r\nL 131.273071 190.24164 \r\nL 132.29101 190.08255 \r\nL 133.308948 191.33861 \r\nL 134.326887 192.310885 \r\nL 135.344826 192.440924 \r\nL 136.362764 191.677215 \r\nL 137.380703 193.305596 \r\nL 138.398641 193.135695 \r\nL 139.41658 192.847183 \r\nL 141.452457 194.493483 \r\nL 142.470396 194.650031 \r\nL 143.488334 195.325352 \r\nL 144.506273 195.512765 \r\nL 145.524211 195.036803 \r\nL 146.54215 195.842817 \r\nL 147.560089 196.276141 \r\nL 148.578027 197.381885 \r\nL 149.595966 197.078107 \r\nL 150.613904 198.175324 \r\nL 151.631843 197.411035 \r\nL 152.649781 198.137079 \r\nL 153.66772 198.191923 \r\nL 155.703597 198.59891 \r\nL 156.721536 198.995012 \r\nL 157.739474 199.181845 \r\nL 158.757413 199.749947 \r\nL 159.775352 200.123477 \r\nL 160.79329 200.835575 \r\nL 161.811229 200.99564 \r\nL 162.829167 199.990217 \r\nL 163.847106 200.648261 \r\nL 164.865044 201.535011 \r\nL 165.882983 202.189834 \r\nL 166.900922 202.0594 \r\nL 167.91886 202.453935 \r\nL 168.936799 201.738443 \r\nL 169.954737 201.970617 \r\nL 170.972676 202.443667 \r\nL 171.990615 202.529599 \r\nL 174.026492 203.358321 \r\nL 175.04443 203.785288 \r\nL 176.062369 203.464294 \r\nL 177.080307 203.90659 \r\nL 178.098246 203.288791 \r\nL 179.116185 204.436618 \r\nL 180.134123 204.669472 \r\nL 181.152062 203.931247 \r\nL 183.187939 204.634608 \r\nL 184.205878 204.43531 \r\nL 185.223816 204.104777 \r\nL 186.241755 205.344596 \r\nL 187.259693 205.11505 \r\nL 188.277632 206.17486 \r\nL 189.29557 205.772452 \r\nL 190.313509 205.813869 \r\nL 191.331448 205.658061 \r\nL 192.349386 205.904428 \r\nL 193.367325 205.770095 \r\nL 194.385263 206.200567 \r\nL 195.403202 206.396496 \r\nL 196.421141 207.10968 \r\nL 197.439079 206.201616 \r\nL 198.457018 206.685217 \r\nL 199.474956 206.440714 \r\nL 200.492895 206.752366 \r\nL 201.510833 206.476479 \r\nL 202.528772 207.435968 \r\nL 203.546711 207.18248 \r\nL 204.564649 207.571338 \r\nL 205.582588 207.295513 \r\nL 206.600526 207.501932 \r\nL 207.618465 208.137699 \r\nL 210.672281 207.860615 \r\nL 211.690219 208.377797 \r\nL 212.708158 208.577588 \r\nL 213.726096 208.589275 \r\nL 214.744035 208.146709 \r\nL 215.761974 208.673158 \r\nL 216.779912 208.665667 \r\nL 217.797851 208.177142 \r\nL 218.815789 208.485276 \r\nL 219.833728 208.967483 \r\nL 221.869605 209.134669 \r\nL 223.905482 209.274248 \r\nL 224.923421 208.994498 \r\nL 225.941359 209.480222 \r\nL 226.959298 209.617517 \r\nL 227.977237 209.588651 \r\nL 228.995175 209.375754 \r\nL 230.013114 209.794082 \r\nL 231.031052 209.197954 \r\nL 232.048991 210.077658 \r\nL 233.06693 209.806313 \r\nL 234.084868 210.603935 \r\nL 235.102807 209.631019 \r\nL 236.120745 210.034538 \r\nL 237.138684 209.945336 \r\nL 240.1925 210.242536 \r\nL 241.210438 210.153877 \r\nL 242.228377 210.562222 \r\nL 243.246315 210.147484 \r\nL 244.264254 210.601171 \r\nL 245.282193 210.624668 \r\nL 246.300131 210.356371 \r\nL 247.31807 211.150846 \r\nL 248.336008 211.225967 \r\nL 249.353947 210.775897 \r\nL 250.371885 211.154586 \r\nL 251.389824 210.781574 \r\nL 252.407763 211.366817 \r\nL 254.44364 210.917055 \r\nL 255.461578 210.830136 \r\nL 256.479517 211.254204 \r\nL 257.497456 211.064125 \r\nL 258.515394 211.65249 \r\nL 260.551271 211.156437 \r\nL 261.56921 211.25297 \r\nL 262.587148 211.926477 \r\nL 263.605087 211.77879 \r\nL 264.623026 212.263193 \r\nL 265.640964 211.206369 \r\nL 266.658903 211.940102 \r\nL 267.676841 211.409073 \r\nL 269.712719 211.592167 \r\nL 270.730657 212.345262 \r\nL 272.766534 211.980075 \r\nL 273.784473 212.355456 \r\nL 274.802411 212.053184 \r\nL 275.82035 212.029933 \r\nL 276.838289 211.802485 \r\nL 277.856227 212.487679 \r\nL 278.874166 211.822416 \r\nL 280.910043 212.433909 \r\nL 281.927982 212.734528 \r\nL 282.94592 212.758445 \r\nL 283.963859 212.283988 \r\nL 284.981797 212.032031 \r\nL 285.999736 212.364761 \r\nL 287.017674 212.40181 \r\nL 288.035613 212.180878 \r\nL 290.07149 213.066974 \r\nL 291.089429 212.586853 \r\nL 293.125306 212.877315 \r\nL 294.143245 213.194964 \r\nL 295.161183 213.065518 \r\nL 296.179122 212.661838 \r\nL 297.19706 213.232222 \r\nL 298.214999 212.79711 \r\nL 299.232937 213.166444 \r\nL 300.250876 213.369789 \r\nL 301.268815 213.030333 \r\nL 302.286753 213.164593 \r\nL 303.304692 212.894136 \r\nL 304.32263 213.26036 \r\nL 306.358508 213.250821 \r\nL 307.376446 213.666373 \r\nL 308.394385 213.65107 \r\nL 309.412323 213.084807 \r\nL 310.430262 213.369925 \r\nL 312.466139 213.585242 \r\nL 314.502016 213.655303 \r\nL 315.519955 214.222589 \r\nL 316.537893 213.803989 \r\nL 317.555832 213.994672 \r\nL 318.573771 213.879283 \r\nL 319.591709 214.062216 \r\nL 320.609648 214.569685 \r\nL 321.627586 214.048875 \r\nL 323.663463 214.623011 \r\nL 324.681402 213.958291 \r\nL 325.699341 214.096487 \r\nL 326.717279 214.780435 \r\nL 327.735218 214.710855 \r\nL 328.753156 214.286072 \r\nL 329.771095 214.468931 \r\nL 330.789034 214.96417 \r\nL 331.806972 215.126469 \r\nL 332.824911 214.945696 \r\nL 333.842849 214.945005 \r\nL 334.860788 215.144734 \r\nL 335.878726 215.51476 \r\nL 336.896665 215.522386 \r\nL 337.914604 215.302454 \r\nL 339.950481 215.793645 \r\nL 340.968419 215.27402 \r\nL 341.986358 215.752179 \r\nL 343.004297 215.959338 \r\nL 344.022235 215.61866 \r\nL 345.040174 216.113171 \r\nL 346.058112 216.083589 \r\nL 347.076051 215.769247 \r\nL 348.093989 216.289193 \r\nL 350.129867 216.755381 \r\nL 351.147805 216.310679 \r\nL 352.165744 216.891467 \r\nL 353.183682 216.158117 \r\nL 354.201621 216.902623 \r\nL 355.21956 217.077004 \r\nL 356.237498 217.386323 \r\nL 357.255437 217.475587 \r\nL 358.273375 216.964576 \r\nL 359.291314 217.437428 \r\nL 360.309252 216.988617 \r\nL 361.327191 216.942535 \r\nL 362.34513 218.256364 \r\nL 363.363068 217.219545 \r\nL 363.363068 217.219545 \r\n\" style=\"fill:none;stroke:#1f77b4;stroke-linecap:square;stroke-width:1.5;\"/>\r\n   </g>\r\n   <g id=\"patch_3\">\r\n    <path d=\"M 43.78125 228.14 \r\nL 43.78125 10.7 \r\n\" style=\"fill:none;stroke:#000000;stroke-linecap:square;stroke-linejoin:miter;stroke-width:0.8;\"/>\r\n   </g>\r\n   <g id=\"patch_4\">\r\n    <path d=\"M 378.58125 228.14 \r\nL 378.58125 10.7 \r\n\" style=\"fill:none;stroke:#000000;stroke-linecap:square;stroke-linejoin:miter;stroke-width:0.8;\"/>\r\n   </g>\r\n   <g id=\"patch_5\">\r\n    <path d=\"M 43.78125 228.14 \r\nL 378.58125 228.14 \r\n\" style=\"fill:none;stroke:#000000;stroke-linecap:square;stroke-linejoin:miter;stroke-width:0.8;\"/>\r\n   </g>\r\n   <g id=\"patch_6\">\r\n    <path d=\"M 43.78125 10.7 \r\nL 378.58125 10.7 \r\n\" style=\"fill:none;stroke:#000000;stroke-linecap:square;stroke-linejoin:miter;stroke-width:0.8;\"/>\r\n   </g>\r\n  </g>\r\n </g>\r\n <defs>\r\n  <clipPath id=\"p22a65995cb\">\r\n   <rect height=\"217.44\" width=\"334.8\" x=\"43.78125\" y=\"10.7\"/>\r\n  </clipPath>\r\n </defs>\r\n</svg>\r\n",
      "image/png": "[encoded data removed]"
     },
     "metadata": {
      "needs_background": "light"
     }
    }
   ],
   "metadata": {}
  },
  {
   "cell_type": "code",
   "execution_count": 55,
   "source": [
    "# Validate the model \r\n",
    "# TO EVALUATE THE ENTIRE TEST SET\r\n",
    "with torch.no_grad():\r\n",
    "    y_val = model(cat_test, con_test)\r\n",
    "    loss = criterion(y_val, y_test)\r\n",
    "print(f'CE Loss: {loss:.8f}')"
   ],
   "outputs": [
    {
     "output_type": "stream",
     "name": "stdout",
     "text": [
      "CE Loss: 0.25459540\n"
     ]
    }
   ],
   "metadata": {}
  },
  {
   "cell_type": "code",
   "execution_count": 56,
   "source": [
    "# the first 50 predicted values\r\n",
    "rows = 50\r\n",
    "correct = 0\r\n",
    "print(f'{\"MODEL OUTPUT\":26} ARGMAX  Y_TEST')\r\n",
    "for i in range(rows):\r\n",
    "    print(f'{str(y_val[i]):26} {y_val[i].argmax():^7}{y_test[i]:^7}')\r\n",
    "    if y_val[i].argmax().item() == y_test[i]:\r\n",
    "        correct += 1\r\n",
    "print(f'\\n{correct} out of {rows} = {100*correct/rows:.2f}% correct')"
   ],
   "outputs": [
    {
     "output_type": "stream",
     "name": "stdout",
     "text": [
      "MODEL OUTPUT               ARGMAX  Y_TEST\n",
      "tensor([ 1.8092, -1.6521])    0      0   \n",
      "tensor([-1.8206,  2.6399])    1      0   \n",
      "tensor([ 1.4142, -1.9226])    0      0   \n",
      "tensor([-1.9029,  1.4932])    1      1   \n",
      "tensor([ 1.1786, -2.5067])    0      0   \n",
      "tensor([ 2.0986, -2.3115])    0      0   \n",
      "tensor([ 1.3129, -1.8303])    0      0   \n",
      "tensor([-1.6212,  2.4038])    1      1   \n",
      "tensor([ 2.2472, -2.4118])    0      0   \n",
      "tensor([-0.4523,  1.1501])    1      1   \n",
      "tensor([ 1.5184, -2.1609])    0      0   \n",
      "tensor([ 0.7718, -1.9437])    0      0   \n",
      "tensor([ 0.9597, -1.3705])    0      0   \n",
      "tensor([-1.3624,  1.7336])    1      1   \n",
      "tensor([ 1.4197, -2.4457])    0      0   \n",
      "tensor([-1.4370,  2.6072])    1      1   \n",
      "tensor([ 2.2982, -2.6050])    0      1   \n",
      "tensor([ 1.4634, -2.7879])    0      0   \n",
      "tensor([ 0.3157, -0.8842])    0      0   \n",
      "tensor([ 2.0478, -1.9720])    0      0   \n",
      "tensor([-1.3653,  2.2008])    1      1   \n",
      "tensor([-0.4733,  0.3090])    1      1   \n",
      "tensor([-2.0553,  2.2884])    1      1   \n",
      "tensor([-2.1247,  2.6420])    1      1   \n",
      "tensor([-3.1307,  5.1670])    1      1   \n",
      "tensor([ 2.2156, -2.5097])    0      0   \n",
      "tensor([ 1.0278, -1.7733])    0      0   \n",
      "tensor([ 1.1171, -1.6684])    0      0   \n",
      "tensor([-2.1355,  1.6849])    1      1   \n",
      "tensor([ 1.5057, -1.6379])    0      0   \n",
      "tensor([ 2.0341, -1.8428])    0      0   \n",
      "tensor([-1.6222,  2.8761])    1      1   \n",
      "tensor([-3.0067,  2.3472])    1      1   \n",
      "tensor([-1.5755,  1.9941])    1      1   \n",
      "tensor([ 1.3025, -2.2626])    0      0   \n",
      "tensor([ 0.6556, -1.4782])    0      0   \n",
      "tensor([-1.4532,  2.1825])    1      1   \n",
      "tensor([ 1.0601, -1.5822])    0      1   \n",
      "tensor([ 0.3359, -0.8062])    0      1   \n",
      "tensor([ 1.9261, -1.9821])    0      0   \n",
      "tensor([ 0.1141, -0.5703])    0      0   \n",
      "tensor([ 0.6792, -0.5569])    0      0   \n",
      "tensor([-0.6772,  0.8834])    1      1   \n",
      "tensor([ 2.2070, -2.0397])    0      0   \n",
      "tensor([-0.0558, -0.4232])    0      0   \n",
      "tensor([-1.1157,  1.2471])    1      1   \n",
      "tensor([-1.8080,  2.7165])    1      1   \n",
      "tensor([ 1.7406, -2.0365])    0      0   \n",
      "tensor([ 1.3195, -2.2980])    0      0   \n",
      "tensor([-0.0783,  0.3373])    1      0   \n",
      "\n",
      "45 out of 50 = 90.00% correct\n"
     ]
    }
   ],
   "metadata": {}
  },
  {
   "cell_type": "code",
   "execution_count": 59,
   "source": [
    "#save the model \r\n",
    "# Make sure to save the model only after the training has happened!\r\n",
    "if len(losses) == epochs:\r\n",
    "    torch.save(model.state_dict(), 'C:/Users/thomtt10/Documents/PRACTICE_CODE/Pytorch_Udemy/ANN/TaxiFareClssModel.pt')\r\n",
    "else:\r\n",
    "    print('Model has not been trained. Consider loading a trained model instead.')"
   ],
   "outputs": [],
   "metadata": {}
  },
  {
   "cell_type": "markdown",
   "source": [
    "# Loading a saved model "
   ],
   "metadata": {}
  },
  {
   "cell_type": "code",
   "execution_count": 58,
   "source": [
    "import torch\r\n",
    "import torch.nn as nn\r\n",
    "import numpy as np\r\n",
    "import pandas as pd\r\n",
    "\r\n",
    "def haversine_distance(df, lat1, long1, lat2, long2):\r\n",
    "    r = 6371\r\n",
    "    phi1 = np.radians(df[lat1])\r\n",
    "    phi2 = np.radians(df[lat2])\r\n",
    "    delta_phi = np.radians(df[lat2]-df[lat1])\r\n",
    "    delta_lambda = np.radians(df[long2]-df[long1])\r\n",
    "    a = np.sin(delta_phi/2)**2 + np.cos(phi1) * np.cos(phi2) * np.sin(delta_lambda/2)**2\r\n",
    "    c = 2 * np.arctan2(np.sqrt(a), np.sqrt(1-a))\r\n",
    "    return r * c\r\n",
    "\r\n",
    "class TabularModel(nn.Module):\r\n",
    "    def __init__(self, emb_szs, n_cont, out_sz, layers, p=0.5):\r\n",
    "        super().__init__()\r\n",
    "        self.embeds = nn.ModuleList([nn.Embedding(ni, nf) for ni,nf in emb_szs])\r\n",
    "        self.emb_drop = nn.Dropout(p)\r\n",
    "        self.bn_cont = nn.BatchNorm1d(n_cont)\r\n",
    "        layerlist = []\r\n",
    "        n_emb = sum((nf for ni,nf in emb_szs))\r\n",
    "        n_in = n_emb + n_cont\r\n",
    "        for i in layers:\r\n",
    "            layerlist.append(nn.Linear(n_in,i)) \r\n",
    "            layerlist.append(nn.ReLU(inplace=True))\r\n",
    "            layerlist.append(nn.BatchNorm1d(i))\r\n",
    "            layerlist.append(nn.Dropout(p))\r\n",
    "            n_in = i\r\n",
    "        layerlist.append(nn.Linear(layers[-1],out_sz))\r\n",
    "        self.layers = nn.Sequential(*layerlist)\r\n",
    "    def forward(self, x_cat, x_cont):\r\n",
    "        embeddings = []\r\n",
    "        for i,e in enumerate(self.embeds):\r\n",
    "            embeddings.append(e(x_cat[:,i]))\r\n",
    "        x = torch.cat(embeddings, 1)\r\n",
    "        x = self.emb_drop(x)\r\n",
    "        x_cont = self.bn_cont(x_cont)\r\n",
    "        x = torch.cat([x, x_cont], 1)\r\n",
    "        return self.layers(x)"
   ],
   "outputs": [],
   "metadata": {}
  },
  {
   "cell_type": "markdown",
   "source": [
    "TabularModel with the parameters we used before (embedding sizes, number of continuous columns, output size, layer sizes, and dropout layer p-value). "
   ],
   "metadata": {}
  },
  {
   "cell_type": "code",
   "execution_count": 66,
   "source": [
    "emb_szs = [(24, 12), (2, 1), (7, 4)]\r\n",
    "model2 = TabularModel(emb_szs, 6, 1, [200,100], p=0.4)"
   ],
   "outputs": [],
   "metadata": {}
  },
  {
   "cell_type": "code",
   "execution_count": null,
   "source": [
    "model2.load_state_dict(torch.load('C:/Users/thomtt10/Documents/PRACTICE_CODE/Pytorch_Udemy/ANN/TaxiFareClssModel.pt'));\r\n",
    "model2.eval() # be sure to run this step!"
   ],
   "outputs": [],
   "metadata": {}
  },
  {
   "cell_type": "markdown",
   "source": [
    "Functions: takes in new parameters from the user, \r\n",
    "- performs all of the preprocessing steps above\r\n",
    "- passes the new data through our trained model."
   ],
   "metadata": {}
  },
  {
   "cell_type": "code",
   "execution_count": 68,
   "source": [
    "def test_data(mdl): # pass in the name of the new model\r\n",
    "    # INPUT NEW DATA\r\n",
    "    plat = float(input('What is the pickup latitude?  '))\r\n",
    "    plong = float(input('What is the pickup longitude? '))\r\n",
    "    dlat = float(input('What is the dropoff latitude?  '))\r\n",
    "    dlong = float(input('What is the dropoff longitude? '))\r\n",
    "    psngr = int(input('How many passengers? '))\r\n",
    "    dt = input('What is the pickup date and time?\\nFormat as YYYY-MM-DD HH:MM:SS     ')\r\n",
    "    \r\n",
    "    # PREPROCESS THE DATA\r\n",
    "    dfx_dict = {'pickup_latitude':plat,'pickup_longitude':plong,'dropoff_latitude':dlat,\r\n",
    "         'dropoff_longitude':dlong,'passenger_count':psngr,'EDTdate':dt}\r\n",
    "    dfx = pd.DataFrame(dfx_dict, index=[0])\r\n",
    "    dfx['dist_km'] = haversine_distance(dfx,'pickup_latitude', 'pickup_longitude',\r\n",
    "                                        'dropoff_latitude', 'dropoff_longitude')\r\n",
    "    dfx['EDTdate'] = pd.to_datetime(dfx['EDTdate'])\r\n",
    "    \r\n",
    "    # We can skip the .astype(category) step since our fields are small,\r\n",
    "    # and encode them right away\r\n",
    "    dfx['Hour'] = dfx['EDTdate'].dt.hour\r\n",
    "    dfx['AMorPM'] = np.where(dfx['Hour']<12,0,1) \r\n",
    "    dfx['Weekday'] = dfx['EDTdate'].dt.strftime(\"%a\")\r\n",
    "    dfx['Weekday'] = dfx['Weekday'].replace(['Fri','Mon','Sat','Sun','Thu','Tue','Wed'],\r\n",
    "                                            [0,1,2,3,4,5,6]).astype('int64')\r\n",
    "    # CREATE CAT AND CONT TENSORS\r\n",
    "    cat_cols = ['Hour', 'AMorPM', 'Weekday']\r\n",
    "    cont_cols = ['pickup_latitude', 'pickup_longitude', 'dropoff_latitude',\r\n",
    "                 'dropoff_longitude', 'passenger_count', 'dist_km']\r\n",
    "    xcats = np.stack([dfx[col].values for col in cat_cols], 1)\r\n",
    "    xcats = torch.tensor(xcats, dtype=torch.int64)\r\n",
    "    xconts = np.stack([dfx[col].values for col in cont_cols], 1)\r\n",
    "    xconts = torch.tensor(xconts, dtype=torch.float)\r\n",
    "    \r\n",
    "    # PASS NEW DATA THROUGH THE MODEL WITHOUT PERFORMING A BACKPROP\r\n",
    "    with torch.no_grad():\r\n",
    "        z = mdl(xcats, xconts).argmax().item()\r\n",
    "    print(f'\\nThe predicted fare class is {z}')"
   ],
   "outputs": [],
   "metadata": {}
  },
  {
   "cell_type": "code",
   "execution_count": null,
   "source": [
    "test_data(model2)"
   ],
   "outputs": [],
   "metadata": {}
  }
 ],
 "metadata": {
  "orig_nbformat": 4,
  "language_info": {
   "name": "python",
   "version": "3.7.3",
   "mimetype": "text/x-python",
   "codemirror_mode": {
    "name": "ipython",
    "version": 3
   },
   "pygments_lexer": "ipython3",
   "nbconvert_exporter": "python",
   "file_extension": ".py"
  },
  "kernelspec": {
   "name": "python3",
   "display_name": "Python 3.7.3 64-bit ('pytorchenv': conda)"
  },
  "interpreter": {
   "hash": "63df7b24d2537257e4e7a7bcd8a0da0caf8171d07815a73aa47b4288cce197db"
  }
 },
 "nbformat": 4,
 "nbformat_minor": 2
}